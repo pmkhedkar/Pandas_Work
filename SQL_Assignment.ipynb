{
  "nbformat": 4,
  "nbformat_minor": 0,
  "metadata": {
    "colab": {
      "name": "SQL Assignment.ipynb",
      "provenance": [],
      "collapsed_sections": []
    },
    "kernelspec": {
      "display_name": "Python 3",
      "language": "python",
      "name": "python3"
    },
    "language_info": {
      "codemirror_mode": {
        "name": "ipython",
        "version": 3
      },
      "file_extension": ".py",
      "mimetype": "text/x-python",
      "name": "python",
      "nbconvert_exporter": "python",
      "pygments_lexer": "ipython3",
      "version": "3.6.2"
    }
  },
  "cells": [
    {
      "cell_type": "markdown",
      "metadata": {
        "id": "hmzI5oZ6E_Hp"
      },
      "source": [
        "# SQL Assignment"
      ]
    },
    {
      "cell_type": "code",
      "metadata": {
        "id": "wso5pGwnE_Ht"
      },
      "source": [
        "import pandas as pd\n",
        "import sqlite3\n",
        "from IPython.display import display, HTML"
      ],
      "execution_count": null,
      "outputs": []
    },
    {
      "cell_type": "code",
      "metadata": {
        "id": "uMYMAPLm23sp"
      },
      "source": [
        "# Note that this is not the same db we have used in course videos, please download from this link\n",
        "# https://drive.google.com/file/d/1O-1-L1DdNxEK6O6nG2jS31MbrMh-OnXM/view?usp=sharing"
      ],
      "execution_count": null,
      "outputs": []
    },
    {
      "cell_type": "code",
      "metadata": {
        "id": "xrUl9ShkE_H0",
        "colab": {
          "base_uri": "https://localhost:8080/"
        },
        "outputId": "35a6addd-a529-49ad-8d47-e61a5833d3ef"
      },
      "source": [
        "from google.colab import drive\n",
        "drive.mount('/content/drive/')"
      ],
      "execution_count": null,
      "outputs": [
        {
          "output_type": "stream",
          "text": [
            "Drive already mounted at /content/drive/; to attempt to forcibly remount, call drive.mount(\"/content/drive/\", force_remount=True).\n"
          ],
          "name": "stdout"
        }
      ]
    },
    {
      "cell_type": "code",
      "metadata": {
        "id": "Opvy-V6y2Q78"
      },
      "source": [
        "conn = sqlite3.connect(\"/content/drive/My Drive/Colab Notebooks/Assignment 15/Db-IMDB-Assignment.db\")"
      ],
      "execution_count": null,
      "outputs": []
    },
    {
      "cell_type": "markdown",
      "metadata": {
        "id": "Z_ADQl2BE_H6"
      },
      "source": [
        "#### Overview of all tables"
      ]
    },
    {
      "cell_type": "code",
      "metadata": {
        "id": "7ZfheusYE_H7",
        "scrolled": true
      },
      "source": [
        "tables = pd.read_sql_query(\"SELECT NAME AS 'Table_Name' FROM sqlite_master WHERE type='table'\",conn)\n",
        "tables = tables[\"Table_Name\"].values.tolist()"
      ],
      "execution_count": null,
      "outputs": []
    },
    {
      "cell_type": "code",
      "metadata": {
        "id": "f3zLh5FGE_H_",
        "scrolled": true,
        "colab": {
          "base_uri": "https://localhost:8080/",
          "height": 1000
        },
        "outputId": "e557b25e-9732-41f4-a73a-24e1111e87b1"
      },
      "source": [
        "for table in tables:\n",
        "    query = \"PRAGMA TABLE_INFO({})\".format(table)\n",
        "    schema = pd.read_sql_query(query,conn)\n",
        "    print(\"Schema of\",table)\n",
        "    display(schema)\n",
        "    print(\"-\"*100)\n",
        "    print(\"\\n\")"
      ],
      "execution_count": null,
      "outputs": [
        {
          "output_type": "stream",
          "text": [
            "Schema of Movie\n"
          ],
          "name": "stdout"
        },
        {
          "output_type": "display_data",
          "data": {
            "text/html": [
              "<div>\n",
              "<style scoped>\n",
              "    .dataframe tbody tr th:only-of-type {\n",
              "        vertical-align: middle;\n",
              "    }\n",
              "\n",
              "    .dataframe tbody tr th {\n",
              "        vertical-align: top;\n",
              "    }\n",
              "\n",
              "    .dataframe thead th {\n",
              "        text-align: right;\n",
              "    }\n",
              "</style>\n",
              "<table border=\"1\" class=\"dataframe\">\n",
              "  <thead>\n",
              "    <tr style=\"text-align: right;\">\n",
              "      <th></th>\n",
              "      <th>cid</th>\n",
              "      <th>name</th>\n",
              "      <th>type</th>\n",
              "      <th>notnull</th>\n",
              "      <th>dflt_value</th>\n",
              "      <th>pk</th>\n",
              "    </tr>\n",
              "  </thead>\n",
              "  <tbody>\n",
              "    <tr>\n",
              "      <th>0</th>\n",
              "      <td>0</td>\n",
              "      <td>index</td>\n",
              "      <td>INTEGER</td>\n",
              "      <td>0</td>\n",
              "      <td>None</td>\n",
              "      <td>0</td>\n",
              "    </tr>\n",
              "    <tr>\n",
              "      <th>1</th>\n",
              "      <td>1</td>\n",
              "      <td>MID</td>\n",
              "      <td>TEXT</td>\n",
              "      <td>0</td>\n",
              "      <td>None</td>\n",
              "      <td>0</td>\n",
              "    </tr>\n",
              "    <tr>\n",
              "      <th>2</th>\n",
              "      <td>2</td>\n",
              "      <td>title</td>\n",
              "      <td>TEXT</td>\n",
              "      <td>0</td>\n",
              "      <td>None</td>\n",
              "      <td>0</td>\n",
              "    </tr>\n",
              "    <tr>\n",
              "      <th>3</th>\n",
              "      <td>3</td>\n",
              "      <td>year</td>\n",
              "      <td>TEXT</td>\n",
              "      <td>0</td>\n",
              "      <td>None</td>\n",
              "      <td>0</td>\n",
              "    </tr>\n",
              "    <tr>\n",
              "      <th>4</th>\n",
              "      <td>4</td>\n",
              "      <td>rating</td>\n",
              "      <td>REAL</td>\n",
              "      <td>0</td>\n",
              "      <td>None</td>\n",
              "      <td>0</td>\n",
              "    </tr>\n",
              "    <tr>\n",
              "      <th>5</th>\n",
              "      <td>5</td>\n",
              "      <td>num_votes</td>\n",
              "      <td>INTEGER</td>\n",
              "      <td>0</td>\n",
              "      <td>None</td>\n",
              "      <td>0</td>\n",
              "    </tr>\n",
              "  </tbody>\n",
              "</table>\n",
              "</div>"
            ],
            "text/plain": [
              "   cid       name     type  notnull dflt_value  pk\n",
              "0    0      index  INTEGER        0       None   0\n",
              "1    1        MID     TEXT        0       None   0\n",
              "2    2      title     TEXT        0       None   0\n",
              "3    3       year     TEXT        0       None   0\n",
              "4    4     rating     REAL        0       None   0\n",
              "5    5  num_votes  INTEGER        0       None   0"
            ]
          },
          "metadata": {
            "tags": []
          }
        },
        {
          "output_type": "stream",
          "text": [
            "----------------------------------------------------------------------------------------------------\n",
            "\n",
            "\n",
            "Schema of Genre\n"
          ],
          "name": "stdout"
        },
        {
          "output_type": "display_data",
          "data": {
            "text/html": [
              "<div>\n",
              "<style scoped>\n",
              "    .dataframe tbody tr th:only-of-type {\n",
              "        vertical-align: middle;\n",
              "    }\n",
              "\n",
              "    .dataframe tbody tr th {\n",
              "        vertical-align: top;\n",
              "    }\n",
              "\n",
              "    .dataframe thead th {\n",
              "        text-align: right;\n",
              "    }\n",
              "</style>\n",
              "<table border=\"1\" class=\"dataframe\">\n",
              "  <thead>\n",
              "    <tr style=\"text-align: right;\">\n",
              "      <th></th>\n",
              "      <th>cid</th>\n",
              "      <th>name</th>\n",
              "      <th>type</th>\n",
              "      <th>notnull</th>\n",
              "      <th>dflt_value</th>\n",
              "      <th>pk</th>\n",
              "    </tr>\n",
              "  </thead>\n",
              "  <tbody>\n",
              "    <tr>\n",
              "      <th>0</th>\n",
              "      <td>0</td>\n",
              "      <td>index</td>\n",
              "      <td>INTEGER</td>\n",
              "      <td>0</td>\n",
              "      <td>None</td>\n",
              "      <td>0</td>\n",
              "    </tr>\n",
              "    <tr>\n",
              "      <th>1</th>\n",
              "      <td>1</td>\n",
              "      <td>Name</td>\n",
              "      <td>TEXT</td>\n",
              "      <td>0</td>\n",
              "      <td>None</td>\n",
              "      <td>0</td>\n",
              "    </tr>\n",
              "    <tr>\n",
              "      <th>2</th>\n",
              "      <td>2</td>\n",
              "      <td>GID</td>\n",
              "      <td>INTEGER</td>\n",
              "      <td>0</td>\n",
              "      <td>None</td>\n",
              "      <td>0</td>\n",
              "    </tr>\n",
              "  </tbody>\n",
              "</table>\n",
              "</div>"
            ],
            "text/plain": [
              "   cid   name     type  notnull dflt_value  pk\n",
              "0    0  index  INTEGER        0       None   0\n",
              "1    1   Name     TEXT        0       None   0\n",
              "2    2    GID  INTEGER        0       None   0"
            ]
          },
          "metadata": {
            "tags": []
          }
        },
        {
          "output_type": "stream",
          "text": [
            "----------------------------------------------------------------------------------------------------\n",
            "\n",
            "\n",
            "Schema of Language\n"
          ],
          "name": "stdout"
        },
        {
          "output_type": "display_data",
          "data": {
            "text/html": [
              "<div>\n",
              "<style scoped>\n",
              "    .dataframe tbody tr th:only-of-type {\n",
              "        vertical-align: middle;\n",
              "    }\n",
              "\n",
              "    .dataframe tbody tr th {\n",
              "        vertical-align: top;\n",
              "    }\n",
              "\n",
              "    .dataframe thead th {\n",
              "        text-align: right;\n",
              "    }\n",
              "</style>\n",
              "<table border=\"1\" class=\"dataframe\">\n",
              "  <thead>\n",
              "    <tr style=\"text-align: right;\">\n",
              "      <th></th>\n",
              "      <th>cid</th>\n",
              "      <th>name</th>\n",
              "      <th>type</th>\n",
              "      <th>notnull</th>\n",
              "      <th>dflt_value</th>\n",
              "      <th>pk</th>\n",
              "    </tr>\n",
              "  </thead>\n",
              "  <tbody>\n",
              "    <tr>\n",
              "      <th>0</th>\n",
              "      <td>0</td>\n",
              "      <td>index</td>\n",
              "      <td>INTEGER</td>\n",
              "      <td>0</td>\n",
              "      <td>None</td>\n",
              "      <td>0</td>\n",
              "    </tr>\n",
              "    <tr>\n",
              "      <th>1</th>\n",
              "      <td>1</td>\n",
              "      <td>Name</td>\n",
              "      <td>TEXT</td>\n",
              "      <td>0</td>\n",
              "      <td>None</td>\n",
              "      <td>0</td>\n",
              "    </tr>\n",
              "    <tr>\n",
              "      <th>2</th>\n",
              "      <td>2</td>\n",
              "      <td>LAID</td>\n",
              "      <td>INTEGER</td>\n",
              "      <td>0</td>\n",
              "      <td>None</td>\n",
              "      <td>0</td>\n",
              "    </tr>\n",
              "  </tbody>\n",
              "</table>\n",
              "</div>"
            ],
            "text/plain": [
              "   cid   name     type  notnull dflt_value  pk\n",
              "0    0  index  INTEGER        0       None   0\n",
              "1    1   Name     TEXT        0       None   0\n",
              "2    2   LAID  INTEGER        0       None   0"
            ]
          },
          "metadata": {
            "tags": []
          }
        },
        {
          "output_type": "stream",
          "text": [
            "----------------------------------------------------------------------------------------------------\n",
            "\n",
            "\n",
            "Schema of Country\n"
          ],
          "name": "stdout"
        },
        {
          "output_type": "display_data",
          "data": {
            "text/html": [
              "<div>\n",
              "<style scoped>\n",
              "    .dataframe tbody tr th:only-of-type {\n",
              "        vertical-align: middle;\n",
              "    }\n",
              "\n",
              "    .dataframe tbody tr th {\n",
              "        vertical-align: top;\n",
              "    }\n",
              "\n",
              "    .dataframe thead th {\n",
              "        text-align: right;\n",
              "    }\n",
              "</style>\n",
              "<table border=\"1\" class=\"dataframe\">\n",
              "  <thead>\n",
              "    <tr style=\"text-align: right;\">\n",
              "      <th></th>\n",
              "      <th>cid</th>\n",
              "      <th>name</th>\n",
              "      <th>type</th>\n",
              "      <th>notnull</th>\n",
              "      <th>dflt_value</th>\n",
              "      <th>pk</th>\n",
              "    </tr>\n",
              "  </thead>\n",
              "  <tbody>\n",
              "    <tr>\n",
              "      <th>0</th>\n",
              "      <td>0</td>\n",
              "      <td>index</td>\n",
              "      <td>INTEGER</td>\n",
              "      <td>0</td>\n",
              "      <td>None</td>\n",
              "      <td>0</td>\n",
              "    </tr>\n",
              "    <tr>\n",
              "      <th>1</th>\n",
              "      <td>1</td>\n",
              "      <td>Name</td>\n",
              "      <td>TEXT</td>\n",
              "      <td>0</td>\n",
              "      <td>None</td>\n",
              "      <td>0</td>\n",
              "    </tr>\n",
              "    <tr>\n",
              "      <th>2</th>\n",
              "      <td>2</td>\n",
              "      <td>CID</td>\n",
              "      <td>INTEGER</td>\n",
              "      <td>0</td>\n",
              "      <td>None</td>\n",
              "      <td>0</td>\n",
              "    </tr>\n",
              "  </tbody>\n",
              "</table>\n",
              "</div>"
            ],
            "text/plain": [
              "   cid   name     type  notnull dflt_value  pk\n",
              "0    0  index  INTEGER        0       None   0\n",
              "1    1   Name     TEXT        0       None   0\n",
              "2    2    CID  INTEGER        0       None   0"
            ]
          },
          "metadata": {
            "tags": []
          }
        },
        {
          "output_type": "stream",
          "text": [
            "----------------------------------------------------------------------------------------------------\n",
            "\n",
            "\n",
            "Schema of Location\n"
          ],
          "name": "stdout"
        },
        {
          "output_type": "display_data",
          "data": {
            "text/html": [
              "<div>\n",
              "<style scoped>\n",
              "    .dataframe tbody tr th:only-of-type {\n",
              "        vertical-align: middle;\n",
              "    }\n",
              "\n",
              "    .dataframe tbody tr th {\n",
              "        vertical-align: top;\n",
              "    }\n",
              "\n",
              "    .dataframe thead th {\n",
              "        text-align: right;\n",
              "    }\n",
              "</style>\n",
              "<table border=\"1\" class=\"dataframe\">\n",
              "  <thead>\n",
              "    <tr style=\"text-align: right;\">\n",
              "      <th></th>\n",
              "      <th>cid</th>\n",
              "      <th>name</th>\n",
              "      <th>type</th>\n",
              "      <th>notnull</th>\n",
              "      <th>dflt_value</th>\n",
              "      <th>pk</th>\n",
              "    </tr>\n",
              "  </thead>\n",
              "  <tbody>\n",
              "    <tr>\n",
              "      <th>0</th>\n",
              "      <td>0</td>\n",
              "      <td>index</td>\n",
              "      <td>INTEGER</td>\n",
              "      <td>0</td>\n",
              "      <td>None</td>\n",
              "      <td>0</td>\n",
              "    </tr>\n",
              "    <tr>\n",
              "      <th>1</th>\n",
              "      <td>1</td>\n",
              "      <td>Name</td>\n",
              "      <td>TEXT</td>\n",
              "      <td>0</td>\n",
              "      <td>None</td>\n",
              "      <td>0</td>\n",
              "    </tr>\n",
              "    <tr>\n",
              "      <th>2</th>\n",
              "      <td>2</td>\n",
              "      <td>LID</td>\n",
              "      <td>INTEGER</td>\n",
              "      <td>0</td>\n",
              "      <td>None</td>\n",
              "      <td>0</td>\n",
              "    </tr>\n",
              "  </tbody>\n",
              "</table>\n",
              "</div>"
            ],
            "text/plain": [
              "   cid   name     type  notnull dflt_value  pk\n",
              "0    0  index  INTEGER        0       None   0\n",
              "1    1   Name     TEXT        0       None   0\n",
              "2    2    LID  INTEGER        0       None   0"
            ]
          },
          "metadata": {
            "tags": []
          }
        },
        {
          "output_type": "stream",
          "text": [
            "----------------------------------------------------------------------------------------------------\n",
            "\n",
            "\n",
            "Schema of M_Location\n"
          ],
          "name": "stdout"
        },
        {
          "output_type": "display_data",
          "data": {
            "text/html": [
              "<div>\n",
              "<style scoped>\n",
              "    .dataframe tbody tr th:only-of-type {\n",
              "        vertical-align: middle;\n",
              "    }\n",
              "\n",
              "    .dataframe tbody tr th {\n",
              "        vertical-align: top;\n",
              "    }\n",
              "\n",
              "    .dataframe thead th {\n",
              "        text-align: right;\n",
              "    }\n",
              "</style>\n",
              "<table border=\"1\" class=\"dataframe\">\n",
              "  <thead>\n",
              "    <tr style=\"text-align: right;\">\n",
              "      <th></th>\n",
              "      <th>cid</th>\n",
              "      <th>name</th>\n",
              "      <th>type</th>\n",
              "      <th>notnull</th>\n",
              "      <th>dflt_value</th>\n",
              "      <th>pk</th>\n",
              "    </tr>\n",
              "  </thead>\n",
              "  <tbody>\n",
              "    <tr>\n",
              "      <th>0</th>\n",
              "      <td>0</td>\n",
              "      <td>index</td>\n",
              "      <td>INTEGER</td>\n",
              "      <td>0</td>\n",
              "      <td>None</td>\n",
              "      <td>0</td>\n",
              "    </tr>\n",
              "    <tr>\n",
              "      <th>1</th>\n",
              "      <td>1</td>\n",
              "      <td>MID</td>\n",
              "      <td>TEXT</td>\n",
              "      <td>0</td>\n",
              "      <td>None</td>\n",
              "      <td>0</td>\n",
              "    </tr>\n",
              "    <tr>\n",
              "      <th>2</th>\n",
              "      <td>2</td>\n",
              "      <td>LID</td>\n",
              "      <td>REAL</td>\n",
              "      <td>0</td>\n",
              "      <td>None</td>\n",
              "      <td>0</td>\n",
              "    </tr>\n",
              "    <tr>\n",
              "      <th>3</th>\n",
              "      <td>3</td>\n",
              "      <td>ID</td>\n",
              "      <td>INTEGER</td>\n",
              "      <td>0</td>\n",
              "      <td>None</td>\n",
              "      <td>0</td>\n",
              "    </tr>\n",
              "  </tbody>\n",
              "</table>\n",
              "</div>"
            ],
            "text/plain": [
              "   cid   name     type  notnull dflt_value  pk\n",
              "0    0  index  INTEGER        0       None   0\n",
              "1    1    MID     TEXT        0       None   0\n",
              "2    2    LID     REAL        0       None   0\n",
              "3    3     ID  INTEGER        0       None   0"
            ]
          },
          "metadata": {
            "tags": []
          }
        },
        {
          "output_type": "stream",
          "text": [
            "----------------------------------------------------------------------------------------------------\n",
            "\n",
            "\n",
            "Schema of M_Country\n"
          ],
          "name": "stdout"
        },
        {
          "output_type": "display_data",
          "data": {
            "text/html": [
              "<div>\n",
              "<style scoped>\n",
              "    .dataframe tbody tr th:only-of-type {\n",
              "        vertical-align: middle;\n",
              "    }\n",
              "\n",
              "    .dataframe tbody tr th {\n",
              "        vertical-align: top;\n",
              "    }\n",
              "\n",
              "    .dataframe thead th {\n",
              "        text-align: right;\n",
              "    }\n",
              "</style>\n",
              "<table border=\"1\" class=\"dataframe\">\n",
              "  <thead>\n",
              "    <tr style=\"text-align: right;\">\n",
              "      <th></th>\n",
              "      <th>cid</th>\n",
              "      <th>name</th>\n",
              "      <th>type</th>\n",
              "      <th>notnull</th>\n",
              "      <th>dflt_value</th>\n",
              "      <th>pk</th>\n",
              "    </tr>\n",
              "  </thead>\n",
              "  <tbody>\n",
              "    <tr>\n",
              "      <th>0</th>\n",
              "      <td>0</td>\n",
              "      <td>index</td>\n",
              "      <td>INTEGER</td>\n",
              "      <td>0</td>\n",
              "      <td>None</td>\n",
              "      <td>0</td>\n",
              "    </tr>\n",
              "    <tr>\n",
              "      <th>1</th>\n",
              "      <td>1</td>\n",
              "      <td>MID</td>\n",
              "      <td>TEXT</td>\n",
              "      <td>0</td>\n",
              "      <td>None</td>\n",
              "      <td>0</td>\n",
              "    </tr>\n",
              "    <tr>\n",
              "      <th>2</th>\n",
              "      <td>2</td>\n",
              "      <td>CID</td>\n",
              "      <td>REAL</td>\n",
              "      <td>0</td>\n",
              "      <td>None</td>\n",
              "      <td>0</td>\n",
              "    </tr>\n",
              "    <tr>\n",
              "      <th>3</th>\n",
              "      <td>3</td>\n",
              "      <td>ID</td>\n",
              "      <td>INTEGER</td>\n",
              "      <td>0</td>\n",
              "      <td>None</td>\n",
              "      <td>0</td>\n",
              "    </tr>\n",
              "  </tbody>\n",
              "</table>\n",
              "</div>"
            ],
            "text/plain": [
              "   cid   name     type  notnull dflt_value  pk\n",
              "0    0  index  INTEGER        0       None   0\n",
              "1    1    MID     TEXT        0       None   0\n",
              "2    2    CID     REAL        0       None   0\n",
              "3    3     ID  INTEGER        0       None   0"
            ]
          },
          "metadata": {
            "tags": []
          }
        },
        {
          "output_type": "stream",
          "text": [
            "----------------------------------------------------------------------------------------------------\n",
            "\n",
            "\n",
            "Schema of M_Language\n"
          ],
          "name": "stdout"
        },
        {
          "output_type": "display_data",
          "data": {
            "text/html": [
              "<div>\n",
              "<style scoped>\n",
              "    .dataframe tbody tr th:only-of-type {\n",
              "        vertical-align: middle;\n",
              "    }\n",
              "\n",
              "    .dataframe tbody tr th {\n",
              "        vertical-align: top;\n",
              "    }\n",
              "\n",
              "    .dataframe thead th {\n",
              "        text-align: right;\n",
              "    }\n",
              "</style>\n",
              "<table border=\"1\" class=\"dataframe\">\n",
              "  <thead>\n",
              "    <tr style=\"text-align: right;\">\n",
              "      <th></th>\n",
              "      <th>cid</th>\n",
              "      <th>name</th>\n",
              "      <th>type</th>\n",
              "      <th>notnull</th>\n",
              "      <th>dflt_value</th>\n",
              "      <th>pk</th>\n",
              "    </tr>\n",
              "  </thead>\n",
              "  <tbody>\n",
              "    <tr>\n",
              "      <th>0</th>\n",
              "      <td>0</td>\n",
              "      <td>index</td>\n",
              "      <td>INTEGER</td>\n",
              "      <td>0</td>\n",
              "      <td>None</td>\n",
              "      <td>0</td>\n",
              "    </tr>\n",
              "    <tr>\n",
              "      <th>1</th>\n",
              "      <td>1</td>\n",
              "      <td>MID</td>\n",
              "      <td>TEXT</td>\n",
              "      <td>0</td>\n",
              "      <td>None</td>\n",
              "      <td>0</td>\n",
              "    </tr>\n",
              "    <tr>\n",
              "      <th>2</th>\n",
              "      <td>2</td>\n",
              "      <td>LAID</td>\n",
              "      <td>INTEGER</td>\n",
              "      <td>0</td>\n",
              "      <td>None</td>\n",
              "      <td>0</td>\n",
              "    </tr>\n",
              "    <tr>\n",
              "      <th>3</th>\n",
              "      <td>3</td>\n",
              "      <td>ID</td>\n",
              "      <td>INTEGER</td>\n",
              "      <td>0</td>\n",
              "      <td>None</td>\n",
              "      <td>0</td>\n",
              "    </tr>\n",
              "  </tbody>\n",
              "</table>\n",
              "</div>"
            ],
            "text/plain": [
              "   cid   name     type  notnull dflt_value  pk\n",
              "0    0  index  INTEGER        0       None   0\n",
              "1    1    MID     TEXT        0       None   0\n",
              "2    2   LAID  INTEGER        0       None   0\n",
              "3    3     ID  INTEGER        0       None   0"
            ]
          },
          "metadata": {
            "tags": []
          }
        },
        {
          "output_type": "stream",
          "text": [
            "----------------------------------------------------------------------------------------------------\n",
            "\n",
            "\n",
            "Schema of M_Genre\n"
          ],
          "name": "stdout"
        },
        {
          "output_type": "display_data",
          "data": {
            "text/html": [
              "<div>\n",
              "<style scoped>\n",
              "    .dataframe tbody tr th:only-of-type {\n",
              "        vertical-align: middle;\n",
              "    }\n",
              "\n",
              "    .dataframe tbody tr th {\n",
              "        vertical-align: top;\n",
              "    }\n",
              "\n",
              "    .dataframe thead th {\n",
              "        text-align: right;\n",
              "    }\n",
              "</style>\n",
              "<table border=\"1\" class=\"dataframe\">\n",
              "  <thead>\n",
              "    <tr style=\"text-align: right;\">\n",
              "      <th></th>\n",
              "      <th>cid</th>\n",
              "      <th>name</th>\n",
              "      <th>type</th>\n",
              "      <th>notnull</th>\n",
              "      <th>dflt_value</th>\n",
              "      <th>pk</th>\n",
              "    </tr>\n",
              "  </thead>\n",
              "  <tbody>\n",
              "    <tr>\n",
              "      <th>0</th>\n",
              "      <td>0</td>\n",
              "      <td>index</td>\n",
              "      <td>INTEGER</td>\n",
              "      <td>0</td>\n",
              "      <td>None</td>\n",
              "      <td>0</td>\n",
              "    </tr>\n",
              "    <tr>\n",
              "      <th>1</th>\n",
              "      <td>1</td>\n",
              "      <td>MID</td>\n",
              "      <td>TEXT</td>\n",
              "      <td>0</td>\n",
              "      <td>None</td>\n",
              "      <td>0</td>\n",
              "    </tr>\n",
              "    <tr>\n",
              "      <th>2</th>\n",
              "      <td>2</td>\n",
              "      <td>GID</td>\n",
              "      <td>INTEGER</td>\n",
              "      <td>0</td>\n",
              "      <td>None</td>\n",
              "      <td>0</td>\n",
              "    </tr>\n",
              "    <tr>\n",
              "      <th>3</th>\n",
              "      <td>3</td>\n",
              "      <td>ID</td>\n",
              "      <td>INTEGER</td>\n",
              "      <td>0</td>\n",
              "      <td>None</td>\n",
              "      <td>0</td>\n",
              "    </tr>\n",
              "  </tbody>\n",
              "</table>\n",
              "</div>"
            ],
            "text/plain": [
              "   cid   name     type  notnull dflt_value  pk\n",
              "0    0  index  INTEGER        0       None   0\n",
              "1    1    MID     TEXT        0       None   0\n",
              "2    2    GID  INTEGER        0       None   0\n",
              "3    3     ID  INTEGER        0       None   0"
            ]
          },
          "metadata": {
            "tags": []
          }
        },
        {
          "output_type": "stream",
          "text": [
            "----------------------------------------------------------------------------------------------------\n",
            "\n",
            "\n",
            "Schema of Person\n"
          ],
          "name": "stdout"
        },
        {
          "output_type": "display_data",
          "data": {
            "text/html": [
              "<div>\n",
              "<style scoped>\n",
              "    .dataframe tbody tr th:only-of-type {\n",
              "        vertical-align: middle;\n",
              "    }\n",
              "\n",
              "    .dataframe tbody tr th {\n",
              "        vertical-align: top;\n",
              "    }\n",
              "\n",
              "    .dataframe thead th {\n",
              "        text-align: right;\n",
              "    }\n",
              "</style>\n",
              "<table border=\"1\" class=\"dataframe\">\n",
              "  <thead>\n",
              "    <tr style=\"text-align: right;\">\n",
              "      <th></th>\n",
              "      <th>cid</th>\n",
              "      <th>name</th>\n",
              "      <th>type</th>\n",
              "      <th>notnull</th>\n",
              "      <th>dflt_value</th>\n",
              "      <th>pk</th>\n",
              "    </tr>\n",
              "  </thead>\n",
              "  <tbody>\n",
              "    <tr>\n",
              "      <th>0</th>\n",
              "      <td>0</td>\n",
              "      <td>index</td>\n",
              "      <td>INTEGER</td>\n",
              "      <td>0</td>\n",
              "      <td>None</td>\n",
              "      <td>0</td>\n",
              "    </tr>\n",
              "    <tr>\n",
              "      <th>1</th>\n",
              "      <td>1</td>\n",
              "      <td>PID</td>\n",
              "      <td>TEXT</td>\n",
              "      <td>0</td>\n",
              "      <td>None</td>\n",
              "      <td>0</td>\n",
              "    </tr>\n",
              "    <tr>\n",
              "      <th>2</th>\n",
              "      <td>2</td>\n",
              "      <td>Name</td>\n",
              "      <td>TEXT</td>\n",
              "      <td>0</td>\n",
              "      <td>None</td>\n",
              "      <td>0</td>\n",
              "    </tr>\n",
              "    <tr>\n",
              "      <th>3</th>\n",
              "      <td>3</td>\n",
              "      <td>Gender</td>\n",
              "      <td>TEXT</td>\n",
              "      <td>0</td>\n",
              "      <td>None</td>\n",
              "      <td>0</td>\n",
              "    </tr>\n",
              "  </tbody>\n",
              "</table>\n",
              "</div>"
            ],
            "text/plain": [
              "   cid    name     type  notnull dflt_value  pk\n",
              "0    0   index  INTEGER        0       None   0\n",
              "1    1     PID     TEXT        0       None   0\n",
              "2    2    Name     TEXT        0       None   0\n",
              "3    3  Gender     TEXT        0       None   0"
            ]
          },
          "metadata": {
            "tags": []
          }
        },
        {
          "output_type": "stream",
          "text": [
            "----------------------------------------------------------------------------------------------------\n",
            "\n",
            "\n",
            "Schema of M_Producer\n"
          ],
          "name": "stdout"
        },
        {
          "output_type": "display_data",
          "data": {
            "text/html": [
              "<div>\n",
              "<style scoped>\n",
              "    .dataframe tbody tr th:only-of-type {\n",
              "        vertical-align: middle;\n",
              "    }\n",
              "\n",
              "    .dataframe tbody tr th {\n",
              "        vertical-align: top;\n",
              "    }\n",
              "\n",
              "    .dataframe thead th {\n",
              "        text-align: right;\n",
              "    }\n",
              "</style>\n",
              "<table border=\"1\" class=\"dataframe\">\n",
              "  <thead>\n",
              "    <tr style=\"text-align: right;\">\n",
              "      <th></th>\n",
              "      <th>cid</th>\n",
              "      <th>name</th>\n",
              "      <th>type</th>\n",
              "      <th>notnull</th>\n",
              "      <th>dflt_value</th>\n",
              "      <th>pk</th>\n",
              "    </tr>\n",
              "  </thead>\n",
              "  <tbody>\n",
              "    <tr>\n",
              "      <th>0</th>\n",
              "      <td>0</td>\n",
              "      <td>index</td>\n",
              "      <td>INTEGER</td>\n",
              "      <td>0</td>\n",
              "      <td>None</td>\n",
              "      <td>0</td>\n",
              "    </tr>\n",
              "    <tr>\n",
              "      <th>1</th>\n",
              "      <td>1</td>\n",
              "      <td>MID</td>\n",
              "      <td>TEXT</td>\n",
              "      <td>0</td>\n",
              "      <td>None</td>\n",
              "      <td>0</td>\n",
              "    </tr>\n",
              "    <tr>\n",
              "      <th>2</th>\n",
              "      <td>2</td>\n",
              "      <td>PID</td>\n",
              "      <td>TEXT</td>\n",
              "      <td>0</td>\n",
              "      <td>None</td>\n",
              "      <td>0</td>\n",
              "    </tr>\n",
              "    <tr>\n",
              "      <th>3</th>\n",
              "      <td>3</td>\n",
              "      <td>ID</td>\n",
              "      <td>INTEGER</td>\n",
              "      <td>0</td>\n",
              "      <td>None</td>\n",
              "      <td>0</td>\n",
              "    </tr>\n",
              "  </tbody>\n",
              "</table>\n",
              "</div>"
            ],
            "text/plain": [
              "   cid   name     type  notnull dflt_value  pk\n",
              "0    0  index  INTEGER        0       None   0\n",
              "1    1    MID     TEXT        0       None   0\n",
              "2    2    PID     TEXT        0       None   0\n",
              "3    3     ID  INTEGER        0       None   0"
            ]
          },
          "metadata": {
            "tags": []
          }
        },
        {
          "output_type": "stream",
          "text": [
            "----------------------------------------------------------------------------------------------------\n",
            "\n",
            "\n",
            "Schema of M_Director\n"
          ],
          "name": "stdout"
        },
        {
          "output_type": "display_data",
          "data": {
            "text/html": [
              "<div>\n",
              "<style scoped>\n",
              "    .dataframe tbody tr th:only-of-type {\n",
              "        vertical-align: middle;\n",
              "    }\n",
              "\n",
              "    .dataframe tbody tr th {\n",
              "        vertical-align: top;\n",
              "    }\n",
              "\n",
              "    .dataframe thead th {\n",
              "        text-align: right;\n",
              "    }\n",
              "</style>\n",
              "<table border=\"1\" class=\"dataframe\">\n",
              "  <thead>\n",
              "    <tr style=\"text-align: right;\">\n",
              "      <th></th>\n",
              "      <th>cid</th>\n",
              "      <th>name</th>\n",
              "      <th>type</th>\n",
              "      <th>notnull</th>\n",
              "      <th>dflt_value</th>\n",
              "      <th>pk</th>\n",
              "    </tr>\n",
              "  </thead>\n",
              "  <tbody>\n",
              "    <tr>\n",
              "      <th>0</th>\n",
              "      <td>0</td>\n",
              "      <td>index</td>\n",
              "      <td>INTEGER</td>\n",
              "      <td>0</td>\n",
              "      <td>None</td>\n",
              "      <td>0</td>\n",
              "    </tr>\n",
              "    <tr>\n",
              "      <th>1</th>\n",
              "      <td>1</td>\n",
              "      <td>MID</td>\n",
              "      <td>TEXT</td>\n",
              "      <td>0</td>\n",
              "      <td>None</td>\n",
              "      <td>0</td>\n",
              "    </tr>\n",
              "    <tr>\n",
              "      <th>2</th>\n",
              "      <td>2</td>\n",
              "      <td>PID</td>\n",
              "      <td>TEXT</td>\n",
              "      <td>0</td>\n",
              "      <td>None</td>\n",
              "      <td>0</td>\n",
              "    </tr>\n",
              "    <tr>\n",
              "      <th>3</th>\n",
              "      <td>3</td>\n",
              "      <td>ID</td>\n",
              "      <td>INTEGER</td>\n",
              "      <td>0</td>\n",
              "      <td>None</td>\n",
              "      <td>0</td>\n",
              "    </tr>\n",
              "  </tbody>\n",
              "</table>\n",
              "</div>"
            ],
            "text/plain": [
              "   cid   name     type  notnull dflt_value  pk\n",
              "0    0  index  INTEGER        0       None   0\n",
              "1    1    MID     TEXT        0       None   0\n",
              "2    2    PID     TEXT        0       None   0\n",
              "3    3     ID  INTEGER        0       None   0"
            ]
          },
          "metadata": {
            "tags": []
          }
        },
        {
          "output_type": "stream",
          "text": [
            "----------------------------------------------------------------------------------------------------\n",
            "\n",
            "\n",
            "Schema of M_Cast\n"
          ],
          "name": "stdout"
        },
        {
          "output_type": "display_data",
          "data": {
            "text/html": [
              "<div>\n",
              "<style scoped>\n",
              "    .dataframe tbody tr th:only-of-type {\n",
              "        vertical-align: middle;\n",
              "    }\n",
              "\n",
              "    .dataframe tbody tr th {\n",
              "        vertical-align: top;\n",
              "    }\n",
              "\n",
              "    .dataframe thead th {\n",
              "        text-align: right;\n",
              "    }\n",
              "</style>\n",
              "<table border=\"1\" class=\"dataframe\">\n",
              "  <thead>\n",
              "    <tr style=\"text-align: right;\">\n",
              "      <th></th>\n",
              "      <th>cid</th>\n",
              "      <th>name</th>\n",
              "      <th>type</th>\n",
              "      <th>notnull</th>\n",
              "      <th>dflt_value</th>\n",
              "      <th>pk</th>\n",
              "    </tr>\n",
              "  </thead>\n",
              "  <tbody>\n",
              "    <tr>\n",
              "      <th>0</th>\n",
              "      <td>0</td>\n",
              "      <td>index</td>\n",
              "      <td>INTEGER</td>\n",
              "      <td>0</td>\n",
              "      <td>None</td>\n",
              "      <td>0</td>\n",
              "    </tr>\n",
              "    <tr>\n",
              "      <th>1</th>\n",
              "      <td>1</td>\n",
              "      <td>MID</td>\n",
              "      <td>TEXT</td>\n",
              "      <td>0</td>\n",
              "      <td>None</td>\n",
              "      <td>0</td>\n",
              "    </tr>\n",
              "    <tr>\n",
              "      <th>2</th>\n",
              "      <td>2</td>\n",
              "      <td>PID</td>\n",
              "      <td>TEXT</td>\n",
              "      <td>0</td>\n",
              "      <td>None</td>\n",
              "      <td>0</td>\n",
              "    </tr>\n",
              "    <tr>\n",
              "      <th>3</th>\n",
              "      <td>3</td>\n",
              "      <td>ID</td>\n",
              "      <td>INTEGER</td>\n",
              "      <td>0</td>\n",
              "      <td>None</td>\n",
              "      <td>0</td>\n",
              "    </tr>\n",
              "  </tbody>\n",
              "</table>\n",
              "</div>"
            ],
            "text/plain": [
              "   cid   name     type  notnull dflt_value  pk\n",
              "0    0  index  INTEGER        0       None   0\n",
              "1    1    MID     TEXT        0       None   0\n",
              "2    2    PID     TEXT        0       None   0\n",
              "3    3     ID  INTEGER        0       None   0"
            ]
          },
          "metadata": {
            "tags": []
          }
        },
        {
          "output_type": "stream",
          "text": [
            "----------------------------------------------------------------------------------------------------\n",
            "\n",
            "\n"
          ],
          "name": "stdout"
        }
      ]
    },
    {
      "cell_type": "markdown",
      "metadata": {
        "id": "O4Cj0Wdz23tA"
      },
      "source": [
        "## Useful tips:\n",
        "\n",
        "1. the year column in 'Movie' table, will have few chracters other than numbers which you need to be preprocessed, you need to get a substring of last 4 characters, its better if you convert it as int type, ex: CAST(SUBSTR(TRIM(m.year),-4) AS INTEGER)\n",
        "\n",
        "2. For almost all the TEXT columns we have show, please try to remove trailing spaces, you need to use TRIM() function\n",
        "\n",
        "3. When you are doing count(coulmn) it won't consider the \"NULL\" values, you might need to explore other alternatives like Count(*)"
      ]
    },
    {
      "cell_type": "markdown",
      "metadata": {
        "id": "jL9AmM3oE_IZ"
      },
      "source": [
        "## Q1 --- List all the directors who directed a 'Comedy' movie in a leap year. (You need to check that the genre is 'Comedy’ and year is a leap year) Your query should return director name, the movie name, and the year."
      ]
    },
    {
      "cell_type": "markdown",
      "metadata": {
        "id": "1jglmxDuE_Ib"
      },
      "source": [
        "<h4>To determine whether a year is a leap year, follow these steps:</h4>\n",
        "\n",
        "<ul>\n",
        "    <li><b>STEP-1:</b> If the year is evenly divisible by 4, go to step 2. Otherwise, go to step 5.</li>\n",
        "    <li><b>STEP-2:</b> If the year is evenly divisible by 100, go to step 3. Otherwise, go to step 4.</li>\n",
        "    <li><b>STEP-3:</b> If the year is evenly divisible by 400, go to step 4. Otherwise, go to step 5.</li>\n",
        "    <li><b>STEP-4:</b> The year is a leap year (it has 366 days).</li>\n",
        "    <li><b>STEP-5:</b> The year is not a leap year (it has 365 days).</li>\n",
        "</ul>\n",
        "\n",
        "Year 1900 is divisible by 4 and 100 but it is not divisible by 400, so it is not a leap year."
      ]
    },
    {
      "cell_type": "code",
      "metadata": {
        "id": "aZ8BReSfpVg2"
      },
      "source": [
        ""
      ],
      "execution_count": null,
      "outputs": []
    },
    {
      "cell_type": "code",
      "metadata": {
        "id": "1SadopLxinQe"
      },
      "source": [
        "def run_query(q):\n",
        "  result = pd.read_sql_query(q,conn)\n",
        "  print(result.head(10))"
      ],
      "execution_count": null,
      "outputs": []
    },
    {
      "cell_type": "code",
      "metadata": {
        "id": "2waX-h7kGRlE",
        "colab": {
          "base_uri": "https://localhost:8080/"
        },
        "outputId": "95b616a4-9bab-440a-99ba-d30360e26f5d"
      },
      "source": [
        "query= \"\"\" SELECT * FROM Movie \"\"\"\n",
        "run_query(query)"
      ],
      "execution_count": null,
      "outputs": [
        {
          "output_type": "stream",
          "text": [
            "   index        MID                       title  year  rating  num_votes\n",
            "0      0  tt2388771                      Mowgli  2018     6.6      21967\n",
            "1      1  tt5164214               Ocean's Eight  2018     6.2     110861\n",
            "2      2  tt1365519                 Tomb Raider  2018     6.4     142585\n",
            "3      3  tt0848228                The Avengers  2012     8.1    1137529\n",
            "4      4  tt8239946                     Tumbbad  2018     8.5       7483\n",
            "5      5  tt7027278                   Kedarnath  2018     5.5       1970\n",
            "6      6  tt3498820  Captain America: Civil War  2016     7.8     536641\n",
            "7      7  tt8108198                   Andhadhun  2018     9.0      18160\n",
            "8      8  tt3741834                        Lion  2016     8.1     170216\n",
            "9      9  tt6747420                Rajma Chawal  2018     5.7        681\n"
          ],
          "name": "stdout"
        }
      ]
    },
    {
      "cell_type": "code",
      "metadata": {
        "id": "e-r3zJ55P5d5",
        "colab": {
          "base_uri": "https://localhost:8080/",
          "height": 87
        },
        "outputId": "5b17d0f1-900f-471b-ee53-e8d7a38cd41a"
      },
      "source": [
        "%%time\n",
        "q = \"\"\"SELECT count(*)\n",
        "       FROM Genre g \n",
        "       JOIN M_Genre mg \n",
        "       ON TRIM(g.GID) = TRIM(mg.GID) \n",
        "       JOIN Movie m \n",
        "       ON TRIM(mg.MID) = TRIM(m.MID) \n",
        "       JOIN M_Director md\n",
        "       ON TRIM(m.MID) = TRIM(md.MID)\n",
        "       JOIN Person p\n",
        "       ON TRIM(md.PID) = p.PID\n",
        "       WHERE TRIM(g.Name) LIKE \"%Comedy%\" \n",
        "       AND\n",
        "       TRIM(m.year) = CASE WHEN (\n",
        "                CAST(SUBSTR(TRIM(m.year),-4) AS INTEGER)%4 = 0 \n",
        "                AND CAST(SUBSTR(TRIM(m.year),-4) AS INTEGER)%100 != 0\n",
        "                OR CAST(SUBSTR(TRIM(m.year),-4) AS INTEGER)%400 = 0 \n",
        "                )\n",
        "        THEN year\n",
        "        end\n",
        "        \"\"\"\n",
        "run_query(q)"
      ],
      "execution_count": null,
      "outputs": [
        {
          "output_type": "stream",
          "text": [
            "   count(*)\n",
            "0       232\n",
            "CPU times: user 1min 6s, sys: 0 ns, total: 1min 6s\n",
            "Wall time: 1min 6s\n"
          ],
          "name": "stdout"
        }
      ]
    },
    {
      "cell_type": "code",
      "metadata": {
        "id": "yBo_pMrH23tD",
        "colab": {
          "base_uri": "https://localhost:8080/"
        },
        "outputId": "003bf819-f5a7-49e3-ac2f-1f34174f2248"
      },
      "source": [
        "%%time\n",
        "def grader_1(q1):\n",
        "    q1_results  = pd.read_sql_query(q1,conn)\n",
        "    print(q1_results.head(10))\n",
        "    assert (q1_results.shape == (232,3))\n",
        "\n",
        "query1 = \"\"\"SELECT m.title AS \"Movie Name\", m.year AS \"Year\", p.Name AS \"Director Name\"\n",
        "       FROM Genre g \n",
        "       JOIN M_Genre mg \n",
        "       ON g.GID = TRIM(mg.GID) \n",
        "       JOIN Movie m \n",
        "       ON TRIM(mg.MID) = m.MID \n",
        "       JOIN M_Director md\n",
        "       ON m.MID = TRIM(md.MID)\n",
        "       JOIN Person p\n",
        "       ON TRIM(md.PID) = p.PID\n",
        "       WHERE TRIM(g.Name) LIKE \"%Comedy%\" \n",
        "       AND\n",
        "       TRIM(m.year) = CASE WHEN (\n",
        "                CAST(SUBSTR(TRIM(m.year),-4) AS INTEGER)%4 = 0 \n",
        "                AND CAST(SUBSTR(TRIM(m.year),-4) AS INTEGER)%100 != 0\n",
        "                OR CAST(SUBSTR(TRIM(m.year),-4) AS INTEGER)%400 = 0 \n",
        "                )\n",
        "        THEN year\n",
        "        end\n",
        "        \"\"\"\n",
        "grader_1(query1)"
      ],
      "execution_count": null,
      "outputs": [
        {
          "output_type": "stream",
          "text": [
            "                          Movie Name  Year      Director Name\n",
            "0                         Mastizaade  2016       Milap Zaveri\n",
            "1  Harold & Kumar Go to White Castle  2004       Danny Leiner\n",
            "2                 Gangs of Wasseypur  2012     Anurag Kashyap\n",
            "3        Around the World in 80 Days  2004       Frank Coraci\n",
            "4             The Accidental Husband  2008      Griffin Dunne\n",
            "5                             Barfi!  2012        Anurag Basu\n",
            "6                  Bride & Prejudice  2004    Gurinder Chadha\n",
            "7    Beavis and Butt-Head Do America  1996         Mike Judge\n",
            "8                            Dostana  2008   Tarun Mansukhani\n",
            "9                      Kapoor & Sons  2016       Shakun Batra\n",
            "CPU times: user 10.2 s, sys: 2.9 ms, total: 10.3 s\n",
            "Wall time: 10.3 s\n"
          ],
          "name": "stdout"
        }
      ]
    },
    {
      "cell_type": "markdown",
      "metadata": {
        "id": "LHFSrIJlE_Ih"
      },
      "source": [
        "## Q2 --- List the names of all the actors who played in the movie 'Anand' (1971)"
      ]
    },
    {
      "cell_type": "code",
      "metadata": {
        "id": "6vkzkLYLJQW9",
        "colab": {
          "base_uri": "https://localhost:8080/",
          "height": 52
        },
        "outputId": "bd6b6290-5558-4d7c-91a1-83a188385845"
      },
      "source": [
        "query= \"\"\" SELECT count(*) FROM Person WHERE TRIM(PID) IN (SELECT TRIM(PID) FROM M_Cast WHERE TRIM(MID) IN (SELECT TRIM(MID) FROM Movie WHERE TRIM(title) = \"Anand\"))\n",
        "      \"\"\"\n",
        "run_query(query)"
      ],
      "execution_count": null,
      "outputs": [
        {
          "output_type": "stream",
          "text": [
            "   count(*)\n",
            "0        17\n"
          ],
          "name": "stdout"
        }
      ]
    },
    {
      "cell_type": "code",
      "metadata": {
        "id": "5BSQOVlk23tS",
        "colab": {
          "base_uri": "https://localhost:8080/"
        },
        "outputId": "dde35fcd-09a7-4877-9720-b83b808f50af"
      },
      "source": [
        "%%time\n",
        "def grader_2(q2):\n",
        "    q2_results  = pd.read_sql_query(q2,conn)\n",
        "    print(q2_results.head(10))\n",
        "    assert (q2_results.shape == (17,1))\n",
        "\n",
        "\n",
        "query2 = \"\"\" SELECT Name FROM Person WHERE TRIM(PID) IN (SELECT TRIM(PID) FROM M_Cast WHERE TRIM(MID) IN (SELECT TRIM(MID) FROM Movie WHERE TRIM(title) = \"Anand\")) \"\"\"\n",
        "grader_2(query2)"
      ],
      "execution_count": null,
      "outputs": [
        {
          "output_type": "stream",
          "text": [
            "                Name\n",
            "0   Amitabh Bachchan\n",
            "1      Rajesh Khanna\n",
            "2      Sumita Sanyal\n",
            "3         Ramesh Deo\n",
            "4          Seema Deo\n",
            "5     Asit Kumar Sen\n",
            "6         Dev Kishan\n",
            "7       Atam Prakash\n",
            "8      Lalita Kumari\n",
            "9             Savita\n",
            "CPU times: user 31.5 ms, sys: 0 ns, total: 31.5 ms\n",
            "Wall time: 47.7 ms\n"
          ],
          "name": "stdout"
        }
      ]
    },
    {
      "cell_type": "markdown",
      "metadata": {
        "id": "bJ-mAUMmE_Il"
      },
      "source": [
        "## Q3 --- List all the actors who acted in a film before 1970 and in a film after 1990. (That is: < 1970 and > 1990.)"
      ]
    },
    {
      "cell_type": "code",
      "metadata": {
        "id": "O8MnjNNuSSpt"
      },
      "source": [
        ""
      ],
      "execution_count": null,
      "outputs": []
    },
    {
      "cell_type": "code",
      "metadata": {
        "id": "HARXLaJ623tY",
        "colab": {
          "base_uri": "https://localhost:8080/"
        },
        "outputId": "1a44d318-e32c-4c95-d56f-d42993e9e455"
      },
      "source": [
        "%%time\n",
        "\n",
        "def grader_3a(query_less_1970, query_more_1990):\n",
        "    q3_a = pd.read_sql_query(query_less_1970,conn)\n",
        "    q3_b = pd.read_sql_query(query_more_1990,conn)\n",
        "    return (q3_a.shape == (4942,1)) and (q3_b.shape == (62570,1))\n",
        "\n",
        "query_less_1970 =\"\"\" SELECT p.name FROM Person p WHERE p.PID IN \n",
        "                          (SELECT TRIM(mc.PID) FROM M_Cast mc WHERE TRIM(mc.MID) IN \n",
        "                          (SELECT TRIM(m.MID) FROM Movie m WHERE CAST(SUBSTR(TRIM(m.year),-4) AS INTEGER) < 1970)) \"\"\"\n",
        "query_more_1990 =\"\"\" SELECT p.name FROM Person p WHERE p.PID IN \n",
        "                          (SELECT TRIM(mc.PID) FROM M_Cast mc WHERE TRIM(mc.MID) IN \n",
        "                          (SELECT TRIM(m.MID) FROM Movie m WHERE CAST(SUBSTR(TRIM(m.year),-4) AS INTEGER) > 1990)) \"\"\"\n",
        "print(grader_3a(query_less_1970, query_more_1990))\n",
        "\n",
        "# using the above two queries, you can find the answer to the given question "
      ],
      "execution_count": null,
      "outputs": [
        {
          "output_type": "stream",
          "text": [
            "False\n",
            "CPU times: user 156 ms, sys: 4.84 ms, total: 161 ms\n",
            "Wall time: 163 ms\n"
          ],
          "name": "stdout"
        }
      ]
    },
    {
      "cell_type": "code",
      "metadata": {
        "id": "sbzv0UZZ23td",
        "colab": {
          "base_uri": "https://localhost:8080/"
        },
        "outputId": "8e8d9e85-e3a1-4e98-cbb8-76382dbf5c38"
      },
      "source": [
        "%%time\n",
        "\n",
        "def grader_3(q3):\n",
        "    q3_results  = pd.read_sql_query(q3,conn)\n",
        "    print(q3_results.head(10))\n",
        "    print(q3_results.shape)\n",
        "    assert (q3_results.shape == (300,1))\n",
        "\n",
        "query3 = \"\"\" SELECT p.name FROM Person p WHERE p.PID IN \n",
        "                    (SELECT TRIM(mc1.PID) FROM M_Cast mc1 WHERE TRIM(mc1.MID) IN \n",
        "                    (SELECT TRIM(m1.MID) FROM Movie m1 WHERE CAST(SUBSTR(TRIM(m1.year),-4) AS INTEGER) > 1990) \n",
        "                    AND p.PID IN (SELECT TRIM(mc2.PID) FROM M_Cast mc2 WHERE TRIM(mc2.MID) IN \n",
        "                    (SELECT TRIM(m2.MID) FROM Movie m2 WHERE CAST(SUBSTR(TRIM(m2.year),-4) AS INTEGER) < 1970))) \"\"\"\n",
        "\n",
        "grader_3(query3)"
      ],
      "execution_count": null,
      "outputs": [
        {
          "output_type": "stream",
          "text": [
            "                Name\n",
            "0       Rishi Kapoor\n",
            "1   Amitabh Bachchan\n",
            "2             Asrani\n",
            "3       Zohra Sehgal\n",
            "4    Parikshat Sahni\n",
            "5      Rakesh Sharma\n",
            "6        Sanjay Dutt\n",
            "7          Ric Young\n",
            "8              Yusuf\n",
            "9     Suhasini Mulay\n",
            "(300, 1)\n",
            "CPU times: user 28min 2s, sys: 35.6 s, total: 28min 38s\n",
            "Wall time: 28min 39s\n"
          ],
          "name": "stdout"
        }
      ]
    },
    {
      "cell_type": "markdown",
      "metadata": {
        "id": "wd3tqFxaE_Ir"
      },
      "source": [
        "## Q4 --- List all directors who directed 10 movies or more, in descending order of the number of movies they directed. Return the directors' names and the number of movies each of them directed."
      ]
    },
    {
      "cell_type": "code",
      "metadata": {
        "id": "teIckz6Dg8-N",
        "colab": {
          "base_uri": "https://localhost:8080/"
        },
        "outputId": "cc6c92cc-2a25-4f48-8eaf-b44885ccd9e3"
      },
      "source": [
        "query= \"\"\" SELECT count(p.PID)\n",
        "           FROM Person p \n",
        "           JOIN M_Director md \n",
        "           ON p.PID = TRIM(md.PID)\n",
        "           JOIN Movie m\n",
        "           ON TRIM(md.MID) = TRIM(m.MID)\n",
        "           GROUP BY p.PID\n",
        "           HAVING COUNT(m.MID)>=10\"\"\"\n",
        "run_query(query)"
      ],
      "execution_count": null,
      "outputs": [
        {
          "output_type": "stream",
          "text": [
            "   count(p.PID)\n",
            "0            10\n",
            "1            13\n",
            "2            18\n",
            "3            13\n",
            "4            21\n",
            "5            13\n",
            "6            10\n",
            "7            13\n",
            "8            12\n",
            "9            17\n"
          ],
          "name": "stdout"
        }
      ]
    },
    {
      "cell_type": "code",
      "metadata": {
        "id": "aGgqAYk723th",
        "outputId": "8451f009-5585-43c6-f3bd-ae9aef0ede4a"
      },
      "source": [
        "%%time\n",
        "\n",
        "def grader_4a(query_4a):\n",
        "    query_4a = pd.read_sql_query(query_4a,conn)\n",
        "    print(query_4a.head(10)) \n",
        "    return (query_4a.shape == (1462,2))\n",
        "\n",
        "query_4a =\"\"\" *** Write a query, which will return all the directors(id's) along with the number of movies they directed *** \"\"\"\n",
        "print(grader_4a(query_4a))\n",
        "\n",
        "# using the above query, you can write the answer to the given question"
      ],
      "execution_count": null,
      "outputs": [
        {
          "output_type": "stream",
          "text": [
            "  Director_ID  Movie_Count\n",
            "0   nm0000180            1\n",
            "1   nm0000187            1\n",
            "2   nm0000229            1\n",
            "3   nm0000269            1\n",
            "4   nm0000386            1\n",
            "5   nm0000487            2\n",
            "6   nm0000965            1\n",
            "7   nm0001060            1\n",
            "8   nm0001162            1\n",
            "9   nm0001241            1\n",
            "True\n",
            "Wall time: 16 ms\n"
          ],
          "name": "stdout"
        }
      ]
    },
    {
      "cell_type": "code",
      "metadata": {
        "id": "xROoSzcF23tn",
        "colab": {
          "base_uri": "https://localhost:8080/"
        },
        "outputId": "37725b0b-2e84-4567-ae36-7ca3864cf269"
      },
      "source": [
        "%%time\n",
        "def grader_4(q4):\n",
        "    q4_results  = pd.read_sql_query(q4,conn)\n",
        "    print(q4_results.head(10))\n",
        "    assert (q4_results.shape == (58,2))\n",
        "\n",
        "query4 = \"\"\" SELECT p.PID Director_ID, COUNT(*) Movie_Count\n",
        "           FROM Person p \n",
        "           JOIN M_Director md \n",
        "           ON p.PID = TRIM(md.PID)\n",
        "           JOIN Movie m\n",
        "           ON TRIM(md.MID) = TRIM(m.MID)\n",
        "           GROUP BY p.PID\n",
        "           HAVING COUNT(*)>=10\n",
        "           ORDER BY COUNT(*) DESC \"\"\"\n",
        "grader_4(query4)"
      ],
      "execution_count": null,
      "outputs": [
        {
          "output_type": "stream",
          "text": [
            "  Director_ID  Movie_Count\n",
            "0   nm0223522           39\n",
            "1   nm0080315           35\n",
            "2   nm0698184           30\n",
            "3   nm0890060           30\n",
            "4   nm0080333           29\n",
            "5   nm0611531           27\n",
            "6   nm0007181           21\n",
            "7   nm0154113           19\n",
            "8   nm0759662           19\n",
            "9   nm0007131           18\n",
            "CPU times: user 1.88 s, sys: 0 ns, total: 1.88 s\n",
            "Wall time: 1.88 s\n"
          ],
          "name": "stdout"
        }
      ]
    },
    {
      "cell_type": "markdown",
      "metadata": {
        "id": "OnulNpiOE_Iw"
      },
      "source": [
        "## Q5.a --- For each year, count the number of movies in that year that had only female actors."
      ]
    },
    {
      "cell_type": "code",
      "metadata": {
        "id": "Ps1chytxn0QC",
        "colab": {
          "base_uri": "https://localhost:8080/"
        },
        "outputId": "cca3fbef-12b4-44f4-81f6-6ee23c86fd11"
      },
      "source": [
        "query= \"\"\" SELECT m.year, count(m.MID)\n",
        "            FROM Movie m\n",
        "            WHERE NOT EXISTS\n",
        "            (SELECT * \n",
        "              FROM M_Cast mc, Person p\n",
        "              WHERE p.gender =\"Male\" AND mc.MID = m.MID AND mc.PID = p.PID)\n",
        "            GROUP BY m.year \"\"\"\n",
        "run_query(query)"
      ],
      "execution_count": null,
      "outputs": [
        {
          "output_type": "stream",
          "text": [
            "   year  count(m.MID)\n",
            "0  1931             1\n",
            "1  1936             3\n",
            "2  1939             2\n",
            "3  1941             1\n",
            "4  1943             1\n",
            "5  1946             2\n",
            "6  1947             2\n",
            "7  1948             3\n",
            "8  1949             3\n",
            "9  1950             2\n"
          ],
          "name": "stdout"
        }
      ]
    },
    {
      "cell_type": "code",
      "metadata": {
        "id": "ES-gGiNG23tr",
        "colab": {
          "base_uri": "https://localhost:8080/"
        },
        "outputId": "d164f35e-ddb0-4ef2-e54f-42e982f5aeea"
      },
      "source": [
        "%%time\n",
        "\n",
        "# note that you don't need TRIM for person table\n",
        "\n",
        "def grader_5aa(query_5aa):\n",
        "    query_5aa = pd.read_sql_query(query_5aa,conn)\n",
        "    print(query_5aa.head(10)) \n",
        "    return (query_5aa.shape == (8846,3))\n",
        "\n",
        "query_5aa =\"\"\" SELECT m.MID, p.Gender, count(p.Gender)\n",
        "    FROM Movie m \n",
        "    JOIN M_Cast mc ON TRIM(m.MID) = TRIM(mc.MID)\n",
        "    JOIN Person p ON TRIM(mc.PID) = p.PID \n",
        "    GROUP BY TRIM(m.MID), p.Gender\n",
        "    \"\"\"\n",
        "\n",
        "print(grader_5aa(query_5aa))\n",
        "\n",
        "def grader_5ab(query_5ab):\n",
        "    query_5ab = pd.read_sql_query(query_5ab,conn)\n",
        "    print(query_5ab.head(10)) \n",
        "    return (query_5ab.shape == (3469, 3))\n",
        "\n",
        "query_5ab =\"\"\"\n",
        "SELECT m.MID, p.Gender, count(*)\n",
        "    FROM Movie m \n",
        "    JOIN M_Cast mc ON TRIM(m.MID) = TRIM(mc.MID)\n",
        "    JOIN Person p ON TRIM(mc.PID) = p.PID \n",
        "    WHERE p.Gender = \"Male\"\n",
        "    GROUP BY m.MID, p.Gender\n",
        "    HAVING count(*) >= 1\n",
        "    \"\"\"\n",
        "print(grader_5ab(query_5ab))\n",
        "\n",
        "\n",
        "# using the above queries, you can write the answer to the given question"
      ],
      "execution_count": null,
      "outputs": [
        {
          "output_type": "stream",
          "text": [
            "         MID  Gender  count(p.Gender)\n",
            "0  tt0021594    None                0\n",
            "1  tt0021594  Female                3\n",
            "2  tt0021594    Male                5\n",
            "3  tt0026274    None                0\n",
            "4  tt0026274  Female               11\n",
            "5  tt0026274    Male                9\n",
            "6  tt0027256    None                0\n",
            "7  tt0027256  Female                5\n",
            "8  tt0027256    Male                8\n",
            "9  tt0028217  Female                3\n",
            "True\n",
            "         MID Gender  count(*)\n",
            "0  tt0021594   Male         5\n",
            "1  tt0026274   Male         9\n",
            "2  tt0027256   Male         8\n",
            "3  tt0028217   Male         7\n",
            "4  tt0031580   Male        27\n",
            "5  tt0033616   Male        46\n",
            "6  tt0036077   Male        11\n",
            "7  tt0038491   Male         7\n",
            "8  tt0039654   Male         6\n",
            "9  tt0040067   Male        10\n",
            "True\n",
            "CPU times: user 1min 34s, sys: 6.84 s, total: 1min 40s\n",
            "Wall time: 1min 40s\n"
          ],
          "name": "stdout"
        }
      ]
    },
    {
      "cell_type": "code",
      "metadata": {
        "id": "zQOIawPME_Ix",
        "colab": {
          "base_uri": "https://localhost:8080/"
        },
        "outputId": "8cc848d4-8864-47ab-bef6-aa4f9ab3dafc"
      },
      "source": [
        "%%time\n",
        "def grader_5a(q5a):\n",
        "    q5a_results  = pd.read_sql_query(q5a,conn)\n",
        "    print(q5a_results.head(10))\n",
        "    assert (q5a_results.shape == (4,2))\n",
        "\n",
        "query5a = \"\"\" SELECT CAST(SUBSTR(TRIM(m.year),-4) AS INTEGER), count(m.MID) Movie_Count\n",
        "            FROM Movie m\n",
        "            WHERE NOT EXISTS\n",
        "            (SELECT * \n",
        "              FROM M_Cast mc, Person p\n",
        "              WHERE TRIM(p.gender) =\"Male\" AND TRIM(mc.MID) = TRIM(m.MID) AND TRIM(mc.PID) = TRIM(p.PID))\n",
        "            GROUP BY CAST(SUBSTR(TRIM(m.year),-4) AS INTEGER) \"\"\"\n",
        "grader_5a(query5a)"
      ],
      "execution_count": null,
      "outputs": [
        {
          "output_type": "stream",
          "text": [
            "   CAST(SUBSTR(TRIM(m.year),-4) AS INTEGER)  Movie_Count\n",
            "0                                      1939            1\n",
            "1                                      1999            1\n",
            "2                                      2000            1\n",
            "3                                      2018            1\n",
            "CPU times: user 38.8 s, sys: 2 s, total: 40.8 s\n",
            "Wall time: 40.8 s\n"
          ],
          "name": "stdout"
        }
      ]
    },
    {
      "cell_type": "code",
      "metadata": {
        "id": "JtuQdDO6nGgg"
      },
      "source": [
        ""
      ],
      "execution_count": null,
      "outputs": []
    },
    {
      "cell_type": "markdown",
      "metadata": {
        "id": "cTiKejUfE_I1"
      },
      "source": [
        "## Q5.b --- Now include a small change: report for each year the percentage of movies in that year with only female actors, and the total number of movies made that year. For example, one answer will be: 1990 31.81 13522 meaning that in 1990 there were 13,522 movies, and 31.81% had only female actors. You do not need to round your answer."
      ]
    },
    {
      "cell_type": "code",
      "metadata": {
        "id": "Xv6iXvcZE_I2",
        "colab": {
          "base_uri": "https://localhost:8080/"
        },
        "outputId": "fe8386d8-896f-4371-816a-083ecdb13791"
      },
      "source": [
        "#source: https://stackoverflow.com/questions/57743348/sql-query-imdb-data-to-count-the-total-movies-with-only-female-cast-per-year\n",
        "%%time\n",
        "def grader_5b(q5b):\n",
        "    q5b_results  = pd.read_sql_query(q5b,conn)\n",
        "    print(q5b_results.head(10))\n",
        "    assert (q5b_results.shape == (4,3))\n",
        "\n",
        "query5b = \"\"\" SELECT female_count.year Year,((female_count.Total_movies_with_only_female_leads)*100)/total_count.Total Percentage, total_count.Total FROM \n",
        "                            ((SELECT movie.year Year,count(*) Total_movies_with_only_female_leads FROM movie WHERE NOT EXISTS \n",
        "                            ( SELECT * FROM M_Cast,person WHERE TRIM(M_Cast.MID) = TRIM(movie.MID) and TRIM(M_Cast.PID) = TRIM(person.PID) AND person.gender='Male' ) \n",
        "                            GROUP BY movie.year) female_count, \n",
        "                            (SELECT movie.year,count(*) as Total FROM movie group by movie.year) total_count) \n",
        "                            WHERE female_count.year=total_count.year \"\"\"\n",
        "grader_5b(query5b)"
      ],
      "execution_count": null,
      "outputs": [
        {
          "output_type": "stream",
          "text": [
            "     Year  Percentage  Total\n",
            "0    1939          50      2\n",
            "1    1999           1     66\n",
            "2    2000           1     64\n",
            "3  I 2018          10     10\n",
            "CPU times: user 34.8 s, sys: 1.19 s, total: 36 s\n",
            "Wall time: 36 s\n"
          ],
          "name": "stdout"
        }
      ]
    },
    {
      "cell_type": "markdown",
      "metadata": {
        "id": "d5mvJcHDE_I6"
      },
      "source": [
        "## Q6 --- Find the film(s) with the largest cast. Return the movie title and the size of the cast. By \"cast size\" we mean the number of distinct actors that played in that movie: if an actor played multiple roles, or if it simply occurs multiple times in casts, we still count her/him only once."
      ]
    },
    {
      "cell_type": "code",
      "metadata": {
        "id": "vpr9gGg6E_I7",
        "colab": {
          "base_uri": "https://localhost:8080/"
        },
        "outputId": "9addacbb-cce2-4340-f59e-9071453216e1"
      },
      "source": [
        "%%time\n",
        "def grader_6(q6):\n",
        "    q6_results  = pd.read_sql_query(q6,conn)\n",
        "    print(q6_results.head(10))\n",
        "    assert (q6_results.shape == (3473, 2))\n",
        "\n",
        "query6 = \"\"\" SELECT m.title Movie_Name,count(distinct(c.PID)) Cast_Size FROM Movie m JOIN M_Cast c\n",
        "                   ON c.MID = m.MID GROUP BY m.MID ORDER BY Cast_Size desc \"\"\"\n",
        "grader_6(query6)"
      ],
      "execution_count": null,
      "outputs": [
        {
          "output_type": "stream",
          "text": [
            "                   Movie_Name  Cast_Size\n",
            "0               Ocean's Eight        238\n",
            "1                    Apaharan        233\n",
            "2                        Gold        215\n",
            "3             My Name Is Khan        213\n",
            "4  Captain America: Civil War        191\n",
            "5                    Geostorm        170\n",
            "6                     Striker        165\n",
            "7                        2012        154\n",
            "8                      Pixels        144\n",
            "9       Yamla Pagla Deewana 2        140\n",
            "CPU times: user 191 ms, sys: 8.9 ms, total: 200 ms\n",
            "Wall time: 201 ms\n"
          ],
          "name": "stdout"
        }
      ]
    },
    {
      "cell_type": "markdown",
      "metadata": {
        "id": "I9CKkrWYE_I_"
      },
      "source": [
        "### Q7 --- A decade is a sequence of 10 consecutive years. \n",
        "### For example, say in your database you have movie information starting from 1931. \n",
        "### the first decade is 1931, 1932, ..., 1940,\n",
        "### the second decade is 1932, 1933, ..., 1941 and so on. \n",
        "### Find the decade D with the largest number of films and the total number of films in D."
      ]
    },
    {
      "cell_type": "code",
      "metadata": {
        "id": "ZfOWt8IW23uE",
        "colab": {
          "base_uri": "https://localhost:8080/"
        },
        "outputId": "8811f109-4533-4932-809e-4f49fa18fdc4"
      },
      "source": [
        "%%time\n",
        "def grader_7a(q7a):\n",
        "    q7a_results  = pd.read_sql_query(q7a,conn)\n",
        "    print(q7a_results.head(10))\n",
        "    assert (q7a_results.shape == (78, 2))\n",
        "\n",
        "\n",
        "query7a = \"\"\" SELECT Year, count(*) no_of_films FROM \n",
        "             (SELECT DISTINCT CAST(SUBSTR(TRIM(year),-4) AS INTEGER) Year from Movie) y \n",
        "             GROUP BY Year\"\"\"\n",
        "grader_7a(query7a)\n",
        "\n",
        "# using the above query, you can write the answer to the given question"
      ],
      "execution_count": null,
      "outputs": [
        {
          "output_type": "stream",
          "text": [
            "   Year  no_of_films\n",
            "0  1931            1\n",
            "1  1936            1\n",
            "2  1939            1\n",
            "3  1941            1\n",
            "4  1943            1\n",
            "5  1946            1\n",
            "6  1947            1\n",
            "7  1948            1\n",
            "8  1949            1\n",
            "9  1950            1\n",
            "CPU times: user 8.69 ms, sys: 1.9 ms, total: 10.6 ms\n",
            "Wall time: 17.8 ms\n"
          ],
          "name": "stdout"
        }
      ]
    },
    {
      "cell_type": "code",
      "metadata": {
        "id": "sBMzLrIY23uJ",
        "outputId": "6f40ad73-684a-44f9-a7ce-c0ec253df7e7"
      },
      "source": [
        "%%time\n",
        "def grader_7b(q7b):\n",
        "    q7b_results  = pd.read_sql_query(q7b,conn)\n",
        "    print(q7b_results.head(10))\n",
        "    assert (q7b_results.shape == (713, 4))\n",
        "\n",
        "query7b = \"\"\"   \n",
        "    *** \n",
        "    Write a query that will do joining of the above table(7a) with itself \n",
        "    such that you will join with only rows if the second tables year is <= current_year+9 and more than or equal current_year\n",
        "    *** \n",
        "          \"\"\"\n",
        "grader_7b(query7b)\n",
        "# if you see the below results the first movie year is less than 2nd movie year and \n",
        "# 2nd movie year is less or equal to the first movie year+9\n",
        "\n",
        "# using the above query, you can write the answer to the given question"
      ],
      "execution_count": null,
      "outputs": [
        {
          "output_type": "stream",
          "text": [
            "   Movie_Year  Total_Movies  Movie_Year  Total_Movies\n",
            "0        1931             1        1931             1\n",
            "1        1931             1        1936             3\n",
            "2        1931             1        1939             2\n",
            "3        1936             3        1936             3\n",
            "4        1936             3        1939             2\n",
            "5        1936             3        1941             1\n",
            "6        1936             3        1943             1\n",
            "7        1939             2        1939             2\n",
            "8        1939             2        1941             1\n",
            "9        1939             2        1943             1\n",
            "Wall time: 24 ms\n"
          ],
          "name": "stdout"
        }
      ]
    },
    {
      "cell_type": "code",
      "metadata": {
        "id": "NKqbguuqE_JA",
        "colab": {
          "base_uri": "https://localhost:8080/"
        },
        "outputId": "48d8f968-db1b-4f7e-83ab-bf9cee9d07ec"
      },
      "source": [
        "%%time\n",
        "def grader_7(q7):\n",
        "    q7_results  = pd.read_sql_query(q7,conn)\n",
        "    print(q7_results.head(10))\n",
        "    assert (q7_results.shape == (1, 2))\n",
        "\n",
        "query7 = \"\"\" SELECT (Start||\"-\"||End) Decade, no_of_films from\n",
        "             (SELECT y.year Start, y.year+9 End, count(*) no_of_films FROM \n",
        "             (SELECT DISTINCT year from Movie) y \n",
        "             JOIN Movie m ON CAST(SUBSTR(TRIM(m.year),-4) AS INTEGER) >= Start and CAST(SUBSTR(TRIM(m.year),-4) AS INTEGER)<= End \n",
        "             GROUP BY End ORDER BY no_of_films desc LIMIT 1) \"\"\"\n",
        "grader_7(query7)\n",
        "# if you check the output we are printinng all the year in that decade, its fine you can print 2008 or 2008-2017"
      ],
      "execution_count": null,
      "outputs": [
        {
          "output_type": "stream",
          "text": [
            "      Decade  no_of_films\n",
            "0  2008-2017         1203\n",
            "CPU times: user 164 ms, sys: 1.95 ms, total: 166 ms\n",
            "Wall time: 168 ms\n"
          ],
          "name": "stdout"
        }
      ]
    },
    {
      "cell_type": "markdown",
      "metadata": {
        "id": "6NP-GyTaE_JF"
      },
      "source": [
        "## Q8 --- Find all the actors that made more movies with Yash Chopra than any other director."
      ]
    },
    {
      "cell_type": "code",
      "metadata": {
        "id": "DZJ7WMrk23uR",
        "outputId": "6f379ab4-bfb0-4a2f-dc6a-ae221cb65a0e"
      },
      "source": [
        "%%time\n",
        "def grader_8a(q8a):\n",
        "    q8a_results  = pd.read_sql_query(q8a,conn)\n",
        "    print(q8a_results.head(10))\n",
        "    assert (q8a_results.shape == (73408, 3))\n",
        "\n",
        "query8a = \"\"\" *** Write a query that will results in number of movies actor-director worked together ***\"\"\"\n",
        "grader_8a(query8a)\n",
        "\n",
        "# using the above query, you can write the answer to the given question"
      ],
      "execution_count": null,
      "outputs": [
        {
          "output_type": "stream",
          "text": [
            "       actor   director  movies\n",
            "0  nm0000002  nm0496746       1\n",
            "1  nm0000027  nm0000180       1\n",
            "2  nm0000039  nm0896533       1\n",
            "3  nm0000042  nm0896533       1\n",
            "4  nm0000047  nm0004292       1\n",
            "5  nm0000073  nm0485943       1\n",
            "6  nm0000076  nm0000229       1\n",
            "7  nm0000092  nm0178997       1\n",
            "8  nm0000093  nm0000269       1\n",
            "9  nm0000096  nm0113819       1\n",
            "Wall time: 534 ms\n"
          ],
          "name": "stdout"
        }
      ]
    },
    {
      "cell_type": "code",
      "metadata": {
        "id": "SYMTcHixE_JH",
        "colab": {
          "base_uri": "https://localhost:8080/"
        },
        "outputId": "b841b7aa-c4a6-4801-9476-1a13509ab5d2"
      },
      "source": [
        "#SOURCE: GITHUB\n",
        "%%time\n",
        "\n",
        "def grader_8(q8):\n",
        "    q8_results  = pd.read_sql_query(q8,conn)\n",
        "    print(q8_results.head(10))\n",
        "    print(q8_results.shape)\n",
        "    assert (q8_results.shape == (245, 2))\n",
        "\n",
        "query8 = \"\"\"    SELECT * FROM\n",
        "                (SELECT DISTINCT t1.Director as d, t2.Actor a, Count(DISTINCT Trim(m.mid)) Movies_without_Yash FROM\n",
        "                (SELECT p.PID Director, md.MID movie FROM Person p \n",
        "                JOIN M_Director md ON p.PID = TRIM(md.PID) AND p.Name NOT LIKE '%Yash Chpora%') t1\n",
        "                    JOIN\n",
        "                (SELECT p.PID Actor, mc.MID movie FROM Person p \n",
        "                JOIN M_Cast mc ON p.PID = TRIM(mc.PID)) t2\n",
        "                ON TRIM(t1.movie) = TRIM(t2.movie) \n",
        "                GROUP BY t1.Director, t2.Actor) t3\n",
        "\n",
        "                JOIN\n",
        "                \n",
        "                (SELECT DISTINCT t1.Director d, t2.Actor a, Count(DISTINCT Trim(m.mid)) Movies_with_yash FROM\n",
        "                (SELECT p.PID Director, md.MID movie FROM Person p \n",
        "                JOIN M_Director md ON p.PID = TRIM(md.PID) AND p.Name LIKE '%Yash Chopra%') t1\n",
        "                    JOIN\n",
        "                (SELECT p.PID Actor, mc.MID movie FROM Person p \n",
        "                JOIN M_Cast mc ON p.PID = TRIM(mc.PID)) t2\n",
        "                ON TRIM(t1.movie) = TRIM(t2.movie) \n",
        "                GROUP BY t1.Director, t2.Actor) t4\n",
        "\n",
        "                ON TRIM(t3.a) = TRIM(t4.a) \n",
        "                WHERE Movies_without_Yash < Movies_with_yash\n",
        "                \"\"\"\n",
        "query8= \"\"\"\n",
        " SELECT * \n",
        "FROM   ( \n",
        "                SELECT   pc.NAME, \n",
        "                         Count(DISTINCT m.mid) count_movie \n",
        "                FROM     movie m \n",
        "                JOIN     m_cast mc \n",
        "                ON       m.mid = Trim(mc.mid) \n",
        "                JOIN     m_director md \n",
        "                ON       m.mid = md.mid\n",
        "                JOIN     person pc \n",
        "                ON       Trim(mc.pid) = Trim(pc.pid) \n",
        "                JOIN     person pd \n",
        "                ON       md.pid= pd.pid where pd.NAME = 'Yash Chopra' GROUP BY pc.NAME) lst_yc\n",
        "                JOIN \n",
        "                         ( \n",
        "                                  SELECT   pc.NAME, \n",
        "                                           count(m.mid) count_movie \n",
        "                                  FROM     movie m \n",
        "                                  JOIN     m_cast mc \n",
        "                                  ON       m.mid = trim(mc.mid ) \n",
        "                                  JOIN     m_director md \n",
        "                                  ON       m.mid = md.mid\n",
        "                                  JOIN     person pc \n",
        "                                  ON       trim(mc.pid) = trim(pc.pid) \n",
        "                                  JOIN     person pd \n",
        "                                  ON       md.pid = pd.pid\n",
        "                                  WHERE    pd.NAME != 'Yash Chopra' \n",
        "                                  GROUP BY pc.NAME) lst_wo \n",
        "                ON       lst_yc.NAME = lst_wo.NAME \n",
        "                WHERE    lst_yc.count_movie > lst_wo.count_movie\"\"\"\n",
        "grader_8(query8)"
      ],
      "execution_count": null,
      "outputs": [
        {
          "output_type": "stream",
          "text": [
            "Empty DataFrame\n",
            "Columns: [NAME, count_movie, NAME, count_movie]\n",
            "Index: []\n",
            "(0, 4)\n"
          ],
          "name": "stdout"
        },
        {
          "output_type": "error",
          "ename": "AssertionError",
          "evalue": "ignored",
          "traceback": [
            "\u001b[0;31m---------------------------------------------------------------------------\u001b[0m",
            "\u001b[0;31mAssertionError\u001b[0m                            Traceback (most recent call last)",
            "\u001b[0;32m<ipython-input-8-977a77337aad>\u001b[0m in \u001b[0;36m<module>\u001b[0;34m()\u001b[0m\n\u001b[0;32m----> 1\u001b[0;31m \u001b[0mget_ipython\u001b[0m\u001b[0;34m(\u001b[0m\u001b[0;34m)\u001b[0m\u001b[0;34m.\u001b[0m\u001b[0mrun_cell_magic\u001b[0m\u001b[0;34m(\u001b[0m\u001b[0;34m'time'\u001b[0m\u001b[0;34m,\u001b[0m \u001b[0;34m''\u001b[0m\u001b[0;34m,\u001b[0m \u001b[0;34m'\\ndef grader_8(q8):\\n    q8_results  = pd.read_sql_query(q8,conn)\\n    print(q8_results.head(10))\\n    print(q8_results.shape)\\n    assert (q8_results.shape == (245, 2))\\n\\nquery8 = \"\"\"    SELECT * FROM\\n                (SELECT DISTINCT t1.Director as d, t2.Actor a, Count(DISTINCT Trim(m.mid)) Movies_without_Yash FROM\\n                (SELECT p.PID Director, md.MID movie FROM Person p \\n                JOIN M_Director md ON p.PID = TRIM(md.PID) AND p.Name NOT LIKE \\'%Yash Chpora%\\') t1\\n                    JOIN\\n                (SELECT p.PID Actor, mc.MID movie FROM Person p \\n                JOIN M_Cast mc ON p.PID = TRIM(mc.PID)) t2\\n                ON TRIM(t1.movie) = TRIM(t2.movie) \\n                GROUP BY t1.Director, t2.Actor) t3\\n\\n                JOIN\\n                \\n                (SELECT DISTINCT t1.Director d, t2.Actor a, Count(DISTINCT Trim(m.mid)) Movies_with_yash FROM\\n                (SELECT p.PID Director, md.MID movie FROM Person p \\n                JOIN M_Director md ON p.PID = TRIM(md.PID) AND p.Name LIKE \\'%Yash Chopra%\\') t1\\n                    JOIN\\n                (SELECT p.PID Actor, mc.MID movie FROM Person p \\n                JOIN M_Cast mc ON p.PID = TRIM(mc.PID)) t2\\n                ON TRIM(t1.movie) = TRIM(t2.movie) \\n                GROUP BY t1.Director, t2.Actor) ...\n\u001b[0m",
            "\u001b[0;32m/usr/local/lib/python3.6/dist-packages/IPython/core/interactiveshell.py\u001b[0m in \u001b[0;36mrun_cell_magic\u001b[0;34m(self, magic_name, line, cell)\u001b[0m\n\u001b[1;32m   2115\u001b[0m             \u001b[0mmagic_arg_s\u001b[0m \u001b[0;34m=\u001b[0m \u001b[0mself\u001b[0m\u001b[0;34m.\u001b[0m\u001b[0mvar_expand\u001b[0m\u001b[0;34m(\u001b[0m\u001b[0mline\u001b[0m\u001b[0;34m,\u001b[0m \u001b[0mstack_depth\u001b[0m\u001b[0;34m)\u001b[0m\u001b[0;34m\u001b[0m\u001b[0;34m\u001b[0m\u001b[0m\n\u001b[1;32m   2116\u001b[0m             \u001b[0;32mwith\u001b[0m \u001b[0mself\u001b[0m\u001b[0;34m.\u001b[0m\u001b[0mbuiltin_trap\u001b[0m\u001b[0;34m:\u001b[0m\u001b[0;34m\u001b[0m\u001b[0;34m\u001b[0m\u001b[0m\n\u001b[0;32m-> 2117\u001b[0;31m                 \u001b[0mresult\u001b[0m \u001b[0;34m=\u001b[0m \u001b[0mfn\u001b[0m\u001b[0;34m(\u001b[0m\u001b[0mmagic_arg_s\u001b[0m\u001b[0;34m,\u001b[0m \u001b[0mcell\u001b[0m\u001b[0;34m)\u001b[0m\u001b[0;34m\u001b[0m\u001b[0;34m\u001b[0m\u001b[0m\n\u001b[0m\u001b[1;32m   2118\u001b[0m             \u001b[0;32mreturn\u001b[0m \u001b[0mresult\u001b[0m\u001b[0;34m\u001b[0m\u001b[0;34m\u001b[0m\u001b[0m\n\u001b[1;32m   2119\u001b[0m \u001b[0;34m\u001b[0m\u001b[0m\n",
            "\u001b[0;32m<decorator-gen-60>\u001b[0m in \u001b[0;36mtime\u001b[0;34m(self, line, cell, local_ns)\u001b[0m\n",
            "\u001b[0;32m/usr/local/lib/python3.6/dist-packages/IPython/core/magic.py\u001b[0m in \u001b[0;36m<lambda>\u001b[0;34m(f, *a, **k)\u001b[0m\n\u001b[1;32m    186\u001b[0m     \u001b[0;31m# but it's overkill for just that one bit of state.\u001b[0m\u001b[0;34m\u001b[0m\u001b[0;34m\u001b[0m\u001b[0;34m\u001b[0m\u001b[0m\n\u001b[1;32m    187\u001b[0m     \u001b[0;32mdef\u001b[0m \u001b[0mmagic_deco\u001b[0m\u001b[0;34m(\u001b[0m\u001b[0marg\u001b[0m\u001b[0;34m)\u001b[0m\u001b[0;34m:\u001b[0m\u001b[0;34m\u001b[0m\u001b[0;34m\u001b[0m\u001b[0m\n\u001b[0;32m--> 188\u001b[0;31m         \u001b[0mcall\u001b[0m \u001b[0;34m=\u001b[0m \u001b[0;32mlambda\u001b[0m \u001b[0mf\u001b[0m\u001b[0;34m,\u001b[0m \u001b[0;34m*\u001b[0m\u001b[0ma\u001b[0m\u001b[0;34m,\u001b[0m \u001b[0;34m**\u001b[0m\u001b[0mk\u001b[0m\u001b[0;34m:\u001b[0m \u001b[0mf\u001b[0m\u001b[0;34m(\u001b[0m\u001b[0;34m*\u001b[0m\u001b[0ma\u001b[0m\u001b[0;34m,\u001b[0m \u001b[0;34m**\u001b[0m\u001b[0mk\u001b[0m\u001b[0;34m)\u001b[0m\u001b[0;34m\u001b[0m\u001b[0;34m\u001b[0m\u001b[0m\n\u001b[0m\u001b[1;32m    189\u001b[0m \u001b[0;34m\u001b[0m\u001b[0m\n\u001b[1;32m    190\u001b[0m         \u001b[0;32mif\u001b[0m \u001b[0mcallable\u001b[0m\u001b[0;34m(\u001b[0m\u001b[0marg\u001b[0m\u001b[0;34m)\u001b[0m\u001b[0;34m:\u001b[0m\u001b[0;34m\u001b[0m\u001b[0;34m\u001b[0m\u001b[0m\n",
            "\u001b[0;32m/usr/local/lib/python3.6/dist-packages/IPython/core/magics/execution.py\u001b[0m in \u001b[0;36mtime\u001b[0;34m(self, line, cell, local_ns)\u001b[0m\n\u001b[1;32m   1191\u001b[0m         \u001b[0;32melse\u001b[0m\u001b[0;34m:\u001b[0m\u001b[0;34m\u001b[0m\u001b[0;34m\u001b[0m\u001b[0m\n\u001b[1;32m   1192\u001b[0m             \u001b[0mst\u001b[0m \u001b[0;34m=\u001b[0m \u001b[0mclock2\u001b[0m\u001b[0;34m(\u001b[0m\u001b[0;34m)\u001b[0m\u001b[0;34m\u001b[0m\u001b[0;34m\u001b[0m\u001b[0m\n\u001b[0;32m-> 1193\u001b[0;31m             \u001b[0mexec\u001b[0m\u001b[0;34m(\u001b[0m\u001b[0mcode\u001b[0m\u001b[0;34m,\u001b[0m \u001b[0mglob\u001b[0m\u001b[0;34m,\u001b[0m \u001b[0mlocal_ns\u001b[0m\u001b[0;34m)\u001b[0m\u001b[0;34m\u001b[0m\u001b[0;34m\u001b[0m\u001b[0m\n\u001b[0m\u001b[1;32m   1194\u001b[0m             \u001b[0mend\u001b[0m \u001b[0;34m=\u001b[0m \u001b[0mclock2\u001b[0m\u001b[0;34m(\u001b[0m\u001b[0;34m)\u001b[0m\u001b[0;34m\u001b[0m\u001b[0;34m\u001b[0m\u001b[0m\n\u001b[1;32m   1195\u001b[0m             \u001b[0mout\u001b[0m \u001b[0;34m=\u001b[0m \u001b[0;32mNone\u001b[0m\u001b[0;34m\u001b[0m\u001b[0;34m\u001b[0m\u001b[0m\n",
            "\u001b[0;32m<timed exec>\u001b[0m in \u001b[0;36m<module>\u001b[0;34m()\u001b[0m\n",
            "\u001b[0;32m<timed exec>\u001b[0m in \u001b[0;36mgrader_8\u001b[0;34m(q8)\u001b[0m\n",
            "\u001b[0;31mAssertionError\u001b[0m: "
          ]
        }
      ]
    },
    {
      "cell_type": "markdown",
      "metadata": {
        "id": "VHwJ75_qE_JQ"
      },
      "source": [
        "## Q9 --- The Shahrukh number of an actor is the length of the shortest path between the actor and Shahrukh Khan in the \"co-acting\" graph. That is, Shahrukh Khan has Shahrukh number 0; all actors who acted in the same film as Shahrukh have Shahrukh number 1; all actors who acted in the same film as some actor with Shahrukh number 1 have Shahrukh number 2, etc. Return all actors whose Shahrukh number is 2."
      ]
    },
    {
      "cell_type": "code",
      "metadata": {
        "id": "3FnJ_19z23ub",
        "outputId": "c63ac439-ad2b-4aa4-8aeb-dc0245670f34"
      },
      "source": [
        "%%time\n",
        "def grader_9a(q9a):\n",
        "    q9a_results  = pd.read_sql_query(q9a,conn)\n",
        "    print(q9a_results.head(10))\n",
        "    print(q9a_results.shape)\n",
        "    assert (q9a_results.shape == (2382, 1))\n",
        "\n",
        "query9a = \"\"\" *** Write a query that answers the 9th question ***\"\"\"\n",
        "grader_9a(query9a)\n",
        "# using the above query, you can write the answer to the given question\n",
        "\n",
        "# selecting actors who acted with srk (S1)\n",
        "# selecting all movies where S1 actors acted, this forms S2 movies list\n",
        "# selecting all actors who acted in S2 movies, this gives us S2 actors along with S1 actors\n",
        "# removing S1 actors from the combined list of S1 & S2 actors, so that we get only S2 actors"
      ],
      "execution_count": null,
      "outputs": [
        {
          "output_type": "stream",
          "text": [
            "      S1_PID\n",
            "0  nm0004418\n",
            "1  nm1995953\n",
            "2  nm2778261\n",
            "3  nm0631373\n",
            "4  nm0241935\n",
            "5  nm0792116\n",
            "6  nm1300111\n",
            "7  nm0196375\n",
            "8  nm1464837\n",
            "9  nm2868019\n",
            "(2382, 1)\n",
            "Wall time: 178 ms\n"
          ],
          "name": "stdout"
        }
      ]
    },
    {
      "cell_type": "code",
      "metadata": {
        "id": "5o6imc82E_JS",
        "colab": {
          "base_uri": "https://localhost:8080/",
          "height": 761
        },
        "outputId": "509a5ec9-13c9-493a-9910-5d40bcb483d9"
      },
      "source": [
        "%%time\n",
        "def grader_9(q9):\n",
        "    q9_results  = pd.read_sql_query(q9,conn)\n",
        "    print(q9_results.head(10))\n",
        "    print(q9_results.shape)\n",
        "    assert (q9_results.shape == (25698, 1))\n",
        "\n",
        "query9 = \"\"\" WITH \n",
        "    SHAHRUKH_0 AS\n",
        "    (\n",
        "        SELECT\n",
        "            TRIM(P.PID) PID\n",
        "        FROM\n",
        "            Person P\n",
        "        WHERE\n",
        "            Trim(P.Name) like '%Shahrukh%'\n",
        "    ),\n",
        "    SHAHRUKH_1_MOVIES AS\n",
        "    (\n",
        "        SELECT\n",
        "            DISTINCT\n",
        "            TRIM(MC.MID) MID,\n",
        "            S0.PID\n",
        "        FROM\n",
        "            M_Cast MC,\n",
        "            SHAHRUKH_0 S0\n",
        "        WHERE\n",
        "            TRIM(MC.PID) = S0.PID\n",
        "    ),\n",
        "    SHAHRUKH_1_ACTORS AS\n",
        "    (\n",
        "        SELECT\n",
        "            DISTINCT\n",
        "            TRIM(MC.PID) PID\n",
        "        FROM\n",
        "            M_Cast MC,\n",
        "            SHAHRUKH_1_MOVIES S1M\n",
        "        WHERE\n",
        "            TRIM(MC.MID) = S1M.MID AND\n",
        "            TRIM(MC.PID) <> S1M.PID\n",
        "    ),\n",
        "    SHAHRUKH_2_MOVIES AS\n",
        "    (\n",
        "        SELECT\n",
        "            DISTINCT\n",
        "            TRIM(MC.MID) MID,\n",
        "            S1A.PID\n",
        "        FROM\n",
        "            M_Cast MC,\n",
        "            SHAHRUKH_1_ACTORS S1A\n",
        "        WHERE\n",
        "            TRIM(MC.PID) = S1A.PID\n",
        "    )\n",
        "    SELECT\n",
        "        DISTINCT\n",
        "        TRIM(MC.PID) PID,\n",
        "        TRIM(P.Name) ACTOR_NAME\n",
        "    FROM\n",
        "        Person P,\n",
        "        M_Cast MC,\n",
        "        SHAHRUKH_2_MOVIES S2M\n",
        "    WHERE\n",
        "            TRIM(MC.PID) = TRIM(P.PID) AND\n",
        "            TRIM(MC.MID) = S2M.MID AND\n",
        "            TRIM(MC.PID) <> S2M.PID\"\"\"\n",
        "\n",
        "grader_9(query9)"
      ],
      "execution_count": null,
      "outputs": [
        {
          "output_type": "stream",
          "text": [
            "         PID             ACTOR_NAME\n",
            "0  nm2951768           Freida Pinto\n",
            "1  nm6467532  Caroline Christl Long\n",
            "2  nm6071249          Rajeev Pahuja\n",
            "3  nm3491108      Michelle Santiago\n",
            "4  nm7509518         Jandre le Roux\n",
            "5  nm5951787             Raj Awasti\n",
            "6  nm5525290        Michael Chapman\n",
            "7  nm8232648            James Heron\n",
            "8  nm7247557              Alex Jaep\n",
            "9  nm6631007        Marian Lorencik\n",
            "(15911, 2)\n"
          ],
          "name": "stdout"
        },
        {
          "output_type": "error",
          "ename": "AssertionError",
          "evalue": "ignored",
          "traceback": [
            "\u001b[0;31m---------------------------------------------------------------------------\u001b[0m",
            "\u001b[0;31mAssertionError\u001b[0m                            Traceback (most recent call last)",
            "\u001b[0;32m<ipython-input-7-f0c07d90df23>\u001b[0m in \u001b[0;36m<module>\u001b[0;34m()\u001b[0m\n\u001b[0;32m----> 1\u001b[0;31m \u001b[0mget_ipython\u001b[0m\u001b[0;34m(\u001b[0m\u001b[0;34m)\u001b[0m\u001b[0;34m.\u001b[0m\u001b[0mrun_cell_magic\u001b[0m\u001b[0;34m(\u001b[0m\u001b[0;34m'time'\u001b[0m\u001b[0;34m,\u001b[0m \u001b[0;34m''\u001b[0m\u001b[0;34m,\u001b[0m \u001b[0;34m'def grader_9(q9):\\n    q9_results  = pd.read_sql_query(q9,conn)\\n    print(q9_results.head(10))\\n    print(q9_results.shape)\\n    assert (q9_results.shape == (25698, 1))\\n\\nquery9 = \"\"\" WITH \\n    SHAHRUKH_0 AS\\n    (\\n        SELECT\\n            TRIM(P.PID) PID\\n        FROM\\n            Person P\\n        WHERE\\n            Trim(P.Name) like \\'%Shahrukh%\\'\\n    ),\\n    SHAHRUKH_1_MOVIES AS\\n    (\\n        SELECT\\n            DISTINCT\\n            TRIM(MC.MID) MID,\\n            S0.PID\\n        FROM\\n            M_Cast MC,\\n            SHAHRUKH_0 S0\\n        WHERE\\n            TRIM(MC.PID) = S0.PID\\n    ),\\n    SHAHRUKH_1_ACTORS AS\\n    (\\n        SELECT\\n            DISTINCT\\n            TRIM(MC.PID) PID\\n        FROM\\n            M_Cast MC,\\n            SHAHRUKH_1_MOVIES S1M\\n        WHERE\\n            TRIM(MC.MID) = S1M.MID AND\\n            TRIM(MC.PID) <> S1M.PID\\n    ),\\n    SHAHRUKH_2_MOVIES AS\\n    (\\n        SELECT\\n            DISTINCT\\n            TRIM(MC.MID) MID,\\n            S1A.PID\\n        FROM\\n            M_Cast MC,\\n            SHAHRUKH_1_ACTORS S1A\\n        WHERE\\n            TRIM(MC.PID) = S1A.PID\\n    )\\n    SELECT\\n        DISTINCT\\n        TRIM(MC.PID) PID,\\n        TRIM(P.Name) ACTOR_NAME\\n    FROM\\n        Person P,\\n        M_Cast MC,\\n        SHAHRUKH_2_MOVIES S2M\\n    WHERE\\...\n\u001b[0m",
            "\u001b[0;32m/usr/local/lib/python3.6/dist-packages/IPython/core/interactiveshell.py\u001b[0m in \u001b[0;36mrun_cell_magic\u001b[0;34m(self, magic_name, line, cell)\u001b[0m\n\u001b[1;32m   2115\u001b[0m             \u001b[0mmagic_arg_s\u001b[0m \u001b[0;34m=\u001b[0m \u001b[0mself\u001b[0m\u001b[0;34m.\u001b[0m\u001b[0mvar_expand\u001b[0m\u001b[0;34m(\u001b[0m\u001b[0mline\u001b[0m\u001b[0;34m,\u001b[0m \u001b[0mstack_depth\u001b[0m\u001b[0;34m)\u001b[0m\u001b[0;34m\u001b[0m\u001b[0;34m\u001b[0m\u001b[0m\n\u001b[1;32m   2116\u001b[0m             \u001b[0;32mwith\u001b[0m \u001b[0mself\u001b[0m\u001b[0;34m.\u001b[0m\u001b[0mbuiltin_trap\u001b[0m\u001b[0;34m:\u001b[0m\u001b[0;34m\u001b[0m\u001b[0;34m\u001b[0m\u001b[0m\n\u001b[0;32m-> 2117\u001b[0;31m                 \u001b[0mresult\u001b[0m \u001b[0;34m=\u001b[0m \u001b[0mfn\u001b[0m\u001b[0;34m(\u001b[0m\u001b[0mmagic_arg_s\u001b[0m\u001b[0;34m,\u001b[0m \u001b[0mcell\u001b[0m\u001b[0;34m)\u001b[0m\u001b[0;34m\u001b[0m\u001b[0;34m\u001b[0m\u001b[0m\n\u001b[0m\u001b[1;32m   2118\u001b[0m             \u001b[0;32mreturn\u001b[0m \u001b[0mresult\u001b[0m\u001b[0;34m\u001b[0m\u001b[0;34m\u001b[0m\u001b[0m\n\u001b[1;32m   2119\u001b[0m \u001b[0;34m\u001b[0m\u001b[0m\n",
            "\u001b[0;32m<decorator-gen-60>\u001b[0m in \u001b[0;36mtime\u001b[0;34m(self, line, cell, local_ns)\u001b[0m\n",
            "\u001b[0;32m/usr/local/lib/python3.6/dist-packages/IPython/core/magic.py\u001b[0m in \u001b[0;36m<lambda>\u001b[0;34m(f, *a, **k)\u001b[0m\n\u001b[1;32m    186\u001b[0m     \u001b[0;31m# but it's overkill for just that one bit of state.\u001b[0m\u001b[0;34m\u001b[0m\u001b[0;34m\u001b[0m\u001b[0;34m\u001b[0m\u001b[0m\n\u001b[1;32m    187\u001b[0m     \u001b[0;32mdef\u001b[0m \u001b[0mmagic_deco\u001b[0m\u001b[0;34m(\u001b[0m\u001b[0marg\u001b[0m\u001b[0;34m)\u001b[0m\u001b[0;34m:\u001b[0m\u001b[0;34m\u001b[0m\u001b[0;34m\u001b[0m\u001b[0m\n\u001b[0;32m--> 188\u001b[0;31m         \u001b[0mcall\u001b[0m \u001b[0;34m=\u001b[0m \u001b[0;32mlambda\u001b[0m \u001b[0mf\u001b[0m\u001b[0;34m,\u001b[0m \u001b[0;34m*\u001b[0m\u001b[0ma\u001b[0m\u001b[0;34m,\u001b[0m \u001b[0;34m**\u001b[0m\u001b[0mk\u001b[0m\u001b[0;34m:\u001b[0m \u001b[0mf\u001b[0m\u001b[0;34m(\u001b[0m\u001b[0;34m*\u001b[0m\u001b[0ma\u001b[0m\u001b[0;34m,\u001b[0m \u001b[0;34m**\u001b[0m\u001b[0mk\u001b[0m\u001b[0;34m)\u001b[0m\u001b[0;34m\u001b[0m\u001b[0;34m\u001b[0m\u001b[0m\n\u001b[0m\u001b[1;32m    189\u001b[0m \u001b[0;34m\u001b[0m\u001b[0m\n\u001b[1;32m    190\u001b[0m         \u001b[0;32mif\u001b[0m \u001b[0mcallable\u001b[0m\u001b[0;34m(\u001b[0m\u001b[0marg\u001b[0m\u001b[0;34m)\u001b[0m\u001b[0;34m:\u001b[0m\u001b[0;34m\u001b[0m\u001b[0;34m\u001b[0m\u001b[0m\n",
            "\u001b[0;32m/usr/local/lib/python3.6/dist-packages/IPython/core/magics/execution.py\u001b[0m in \u001b[0;36mtime\u001b[0;34m(self, line, cell, local_ns)\u001b[0m\n\u001b[1;32m   1191\u001b[0m         \u001b[0;32melse\u001b[0m\u001b[0;34m:\u001b[0m\u001b[0;34m\u001b[0m\u001b[0;34m\u001b[0m\u001b[0m\n\u001b[1;32m   1192\u001b[0m             \u001b[0mst\u001b[0m \u001b[0;34m=\u001b[0m \u001b[0mclock2\u001b[0m\u001b[0;34m(\u001b[0m\u001b[0;34m)\u001b[0m\u001b[0;34m\u001b[0m\u001b[0;34m\u001b[0m\u001b[0m\n\u001b[0;32m-> 1193\u001b[0;31m             \u001b[0mexec\u001b[0m\u001b[0;34m(\u001b[0m\u001b[0mcode\u001b[0m\u001b[0;34m,\u001b[0m \u001b[0mglob\u001b[0m\u001b[0;34m,\u001b[0m \u001b[0mlocal_ns\u001b[0m\u001b[0;34m)\u001b[0m\u001b[0;34m\u001b[0m\u001b[0;34m\u001b[0m\u001b[0m\n\u001b[0m\u001b[1;32m   1194\u001b[0m             \u001b[0mend\u001b[0m \u001b[0;34m=\u001b[0m \u001b[0mclock2\u001b[0m\u001b[0;34m(\u001b[0m\u001b[0;34m)\u001b[0m\u001b[0;34m\u001b[0m\u001b[0;34m\u001b[0m\u001b[0m\n\u001b[1;32m   1195\u001b[0m             \u001b[0mout\u001b[0m \u001b[0;34m=\u001b[0m \u001b[0;32mNone\u001b[0m\u001b[0;34m\u001b[0m\u001b[0;34m\u001b[0m\u001b[0m\n",
            "\u001b[0;32m<timed exec>\u001b[0m in \u001b[0;36m<module>\u001b[0;34m()\u001b[0m\n",
            "\u001b[0;32m<timed exec>\u001b[0m in \u001b[0;36mgrader_9\u001b[0;34m(q9)\u001b[0m\n",
            "\u001b[0;31mAssertionError\u001b[0m: "
          ]
        }
      ]
    },
    {
      "cell_type": "code",
      "metadata": {
        "id": "Edv_DRA-G8Zl"
      },
      "source": [
        ""
      ],
      "execution_count": null,
      "outputs": []
    }
  ]
}